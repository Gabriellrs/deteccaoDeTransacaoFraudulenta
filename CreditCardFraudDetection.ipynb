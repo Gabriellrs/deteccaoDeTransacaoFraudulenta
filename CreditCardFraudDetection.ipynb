{
  "nbformat": 4,
  "nbformat_minor": 0,
  "metadata": {
    "colab": {
      "provenance": [],
      "authorship_tag": "ABX9TyNjpyMss+gHEiX+0AnfA0gX",
      "include_colab_link": true
    },
    "kernelspec": {
      "name": "python3",
      "display_name": "Python 3"
    },
    "language_info": {
      "name": "python"
    }
  },
  "cells": [
    {
      "cell_type": "markdown",
      "metadata": {
        "id": "view-in-github",
        "colab_type": "text"
      },
      "source": [
        "<a href=\"https://colab.research.google.com/github/Gabriellrs/deteccaoDeTransacaoFraudulenta/blob/main/CreditCardFraudDetection.ipynb\" target=\"_parent\"><img src=\"https://colab.research.google.com/assets/colab-badge.svg\" alt=\"Open In Colab\"/></a>"
      ]
    },
    {
      "cell_type": "markdown",
      "source": [
        "# Análise Exploratória"
      ],
      "metadata": {
        "id": "nD6ojDeRuKC-"
      }
    },
    {
      "cell_type": "markdown",
      "source": [
        "## Definição do Problema"
      ],
      "metadata": {
        "id": "ORwjaWgenYCX"
      }
    },
    {
      "cell_type": "markdown",
      "source": [
        "Queremos construir um modelo que identifique transações potencialmente fraudulentas com base em características como valor, tempo e outras variáveis associadas às transações."
      ],
      "metadata": {
        "id": "ZOuWoajYndEq"
      }
    },
    {
      "cell_type": "markdown",
      "source": [
        "## Objetivo"
      ],
      "metadata": {
        "id": "ONzOrPNrnjGR"
      }
    },
    {
      "cell_type": "markdown",
      "source": [
        "Criar um modelo preditivo para detectar fraudes em transações financeiras."
      ],
      "metadata": {
        "id": "Lh06YBJ9nuxf"
      }
    },
    {
      "cell_type": "markdown",
      "source": [
        "## Resultados Esperados"
      ],
      "metadata": {
        "id": "BkZgvekJn8Un"
      }
    },
    {
      "cell_type": "markdown",
      "source": [
        "Um modelo com boa performance que possa ser aplicado para alertar sobre fraudes em tempo real."
      ],
      "metadata": {
        "id": "0JJLnztSn_yd"
      }
    },
    {
      "cell_type": "markdown",
      "source": [
        "## Conjunto de Dados Utilizado"
      ],
      "metadata": {
        "id": "DyQraOpSoDq3"
      }
    },
    {
      "cell_type": "markdown",
      "source": [
        "\n",
        "\n",
        "\n",
        "\n",
        "\n",
        "\n",
        "Vamos preparar o conjunto para trabalharmos com ele, vou utilizar o kaggle!"
      ],
      "metadata": {
        "id": "7BjAhR7ioH6W"
      }
    },
    {
      "cell_type": "code",
      "source": [
        "!pip install kaggle"
      ],
      "metadata": {
        "colab": {
          "base_uri": "https://localhost:8080/"
        },
        "id": "9OFyUP7yabkz",
        "outputId": "6c822761-1048-45fb-d78a-18f49b5be141"
      },
      "execution_count": null,
      "outputs": [
        {
          "output_type": "stream",
          "name": "stdout",
          "text": [
            "Requirement already satisfied: kaggle in /usr/local/lib/python3.10/dist-packages (1.6.17)\n",
            "Requirement already satisfied: six>=1.10 in /usr/local/lib/python3.10/dist-packages (from kaggle) (1.16.0)\n",
            "Requirement already satisfied: certifi>=2023.7.22 in /usr/local/lib/python3.10/dist-packages (from kaggle) (2024.8.30)\n",
            "Requirement already satisfied: python-dateutil in /usr/local/lib/python3.10/dist-packages (from kaggle) (2.8.2)\n",
            "Requirement already satisfied: requests in /usr/local/lib/python3.10/dist-packages (from kaggle) (2.32.3)\n",
            "Requirement already satisfied: tqdm in /usr/local/lib/python3.10/dist-packages (from kaggle) (4.66.6)\n",
            "Requirement already satisfied: python-slugify in /usr/local/lib/python3.10/dist-packages (from kaggle) (8.0.4)\n",
            "Requirement already satisfied: urllib3 in /usr/local/lib/python3.10/dist-packages (from kaggle) (2.2.3)\n",
            "Requirement already satisfied: bleach in /usr/local/lib/python3.10/dist-packages (from kaggle) (6.2.0)\n",
            "Requirement already satisfied: webencodings in /usr/local/lib/python3.10/dist-packages (from bleach->kaggle) (0.5.1)\n",
            "Requirement already satisfied: text-unidecode>=1.3 in /usr/local/lib/python3.10/dist-packages (from python-slugify->kaggle) (1.3)\n",
            "Requirement already satisfied: charset-normalizer<4,>=2 in /usr/local/lib/python3.10/dist-packages (from requests->kaggle) (3.4.0)\n",
            "Requirement already satisfied: idna<4,>=2.5 in /usr/local/lib/python3.10/dist-packages (from requests->kaggle) (3.10)\n"
          ]
        }
      ]
    },
    {
      "cell_type": "markdown",
      "source": [
        "Instala a biblioteca kaggle, que permite acessar e baixar datasets diretamente do Kaggle, é necessário pq o Kaggle fornece uma API para interagir com os dados, mas você precisa da biblioteca para usá-la.\n"
      ],
      "metadata": {
        "id": "UXFqeGH8ZOz5"
      }
    },
    {
      "cell_type": "code",
      "source": [
        "# Autenticação no Kaggle\n",
        "from google.colab import files\n",
        "files.upload()  # Pede pra escolher um ficheiro, vamos selecionar o kaggle.json que baixamos"
      ],
      "metadata": {
        "colab": {
          "base_uri": "https://localhost:8080/",
          "height": 90
        },
        "id": "esyPh5BuanJP",
        "outputId": "e591aaf7-197e-4416-daea-17d268584348"
      },
      "execution_count": null,
      "outputs": [
        {
          "output_type": "display_data",
          "data": {
            "text/plain": [
              "<IPython.core.display.HTML object>"
            ],
            "text/html": [
              "\n",
              "     <input type=\"file\" id=\"files-98bc4b48-bddd-4fae-a1ca-dcb02b1d257d\" name=\"files[]\" multiple disabled\n",
              "        style=\"border:none\" />\n",
              "     <output id=\"result-98bc4b48-bddd-4fae-a1ca-dcb02b1d257d\">\n",
              "      Upload widget is only available when the cell has been executed in the\n",
              "      current browser session. Please rerun this cell to enable.\n",
              "      </output>\n",
              "      <script>// Copyright 2017 Google LLC\n",
              "//\n",
              "// Licensed under the Apache License, Version 2.0 (the \"License\");\n",
              "// you may not use this file except in compliance with the License.\n",
              "// You may obtain a copy of the License at\n",
              "//\n",
              "//      http://www.apache.org/licenses/LICENSE-2.0\n",
              "//\n",
              "// Unless required by applicable law or agreed to in writing, software\n",
              "// distributed under the License is distributed on an \"AS IS\" BASIS,\n",
              "// WITHOUT WARRANTIES OR CONDITIONS OF ANY KIND, either express or implied.\n",
              "// See the License for the specific language governing permissions and\n",
              "// limitations under the License.\n",
              "\n",
              "/**\n",
              " * @fileoverview Helpers for google.colab Python module.\n",
              " */\n",
              "(function(scope) {\n",
              "function span(text, styleAttributes = {}) {\n",
              "  const element = document.createElement('span');\n",
              "  element.textContent = text;\n",
              "  for (const key of Object.keys(styleAttributes)) {\n",
              "    element.style[key] = styleAttributes[key];\n",
              "  }\n",
              "  return element;\n",
              "}\n",
              "\n",
              "// Max number of bytes which will be uploaded at a time.\n",
              "const MAX_PAYLOAD_SIZE = 100 * 1024;\n",
              "\n",
              "function _uploadFiles(inputId, outputId) {\n",
              "  const steps = uploadFilesStep(inputId, outputId);\n",
              "  const outputElement = document.getElementById(outputId);\n",
              "  // Cache steps on the outputElement to make it available for the next call\n",
              "  // to uploadFilesContinue from Python.\n",
              "  outputElement.steps = steps;\n",
              "\n",
              "  return _uploadFilesContinue(outputId);\n",
              "}\n",
              "\n",
              "// This is roughly an async generator (not supported in the browser yet),\n",
              "// where there are multiple asynchronous steps and the Python side is going\n",
              "// to poll for completion of each step.\n",
              "// This uses a Promise to block the python side on completion of each step,\n",
              "// then passes the result of the previous step as the input to the next step.\n",
              "function _uploadFilesContinue(outputId) {\n",
              "  const outputElement = document.getElementById(outputId);\n",
              "  const steps = outputElement.steps;\n",
              "\n",
              "  const next = steps.next(outputElement.lastPromiseValue);\n",
              "  return Promise.resolve(next.value.promise).then((value) => {\n",
              "    // Cache the last promise value to make it available to the next\n",
              "    // step of the generator.\n",
              "    outputElement.lastPromiseValue = value;\n",
              "    return next.value.response;\n",
              "  });\n",
              "}\n",
              "\n",
              "/**\n",
              " * Generator function which is called between each async step of the upload\n",
              " * process.\n",
              " * @param {string} inputId Element ID of the input file picker element.\n",
              " * @param {string} outputId Element ID of the output display.\n",
              " * @return {!Iterable<!Object>} Iterable of next steps.\n",
              " */\n",
              "function* uploadFilesStep(inputId, outputId) {\n",
              "  const inputElement = document.getElementById(inputId);\n",
              "  inputElement.disabled = false;\n",
              "\n",
              "  const outputElement = document.getElementById(outputId);\n",
              "  outputElement.innerHTML = '';\n",
              "\n",
              "  const pickedPromise = new Promise((resolve) => {\n",
              "    inputElement.addEventListener('change', (e) => {\n",
              "      resolve(e.target.files);\n",
              "    });\n",
              "  });\n",
              "\n",
              "  const cancel = document.createElement('button');\n",
              "  inputElement.parentElement.appendChild(cancel);\n",
              "  cancel.textContent = 'Cancel upload';\n",
              "  const cancelPromise = new Promise((resolve) => {\n",
              "    cancel.onclick = () => {\n",
              "      resolve(null);\n",
              "    };\n",
              "  });\n",
              "\n",
              "  // Wait for the user to pick the files.\n",
              "  const files = yield {\n",
              "    promise: Promise.race([pickedPromise, cancelPromise]),\n",
              "    response: {\n",
              "      action: 'starting',\n",
              "    }\n",
              "  };\n",
              "\n",
              "  cancel.remove();\n",
              "\n",
              "  // Disable the input element since further picks are not allowed.\n",
              "  inputElement.disabled = true;\n",
              "\n",
              "  if (!files) {\n",
              "    return {\n",
              "      response: {\n",
              "        action: 'complete',\n",
              "      }\n",
              "    };\n",
              "  }\n",
              "\n",
              "  for (const file of files) {\n",
              "    const li = document.createElement('li');\n",
              "    li.append(span(file.name, {fontWeight: 'bold'}));\n",
              "    li.append(span(\n",
              "        `(${file.type || 'n/a'}) - ${file.size} bytes, ` +\n",
              "        `last modified: ${\n",
              "            file.lastModifiedDate ? file.lastModifiedDate.toLocaleDateString() :\n",
              "                                    'n/a'} - `));\n",
              "    const percent = span('0% done');\n",
              "    li.appendChild(percent);\n",
              "\n",
              "    outputElement.appendChild(li);\n",
              "\n",
              "    const fileDataPromise = new Promise((resolve) => {\n",
              "      const reader = new FileReader();\n",
              "      reader.onload = (e) => {\n",
              "        resolve(e.target.result);\n",
              "      };\n",
              "      reader.readAsArrayBuffer(file);\n",
              "    });\n",
              "    // Wait for the data to be ready.\n",
              "    let fileData = yield {\n",
              "      promise: fileDataPromise,\n",
              "      response: {\n",
              "        action: 'continue',\n",
              "      }\n",
              "    };\n",
              "\n",
              "    // Use a chunked sending to avoid message size limits. See b/62115660.\n",
              "    let position = 0;\n",
              "    do {\n",
              "      const length = Math.min(fileData.byteLength - position, MAX_PAYLOAD_SIZE);\n",
              "      const chunk = new Uint8Array(fileData, position, length);\n",
              "      position += length;\n",
              "\n",
              "      const base64 = btoa(String.fromCharCode.apply(null, chunk));\n",
              "      yield {\n",
              "        response: {\n",
              "          action: 'append',\n",
              "          file: file.name,\n",
              "          data: base64,\n",
              "        },\n",
              "      };\n",
              "\n",
              "      let percentDone = fileData.byteLength === 0 ?\n",
              "          100 :\n",
              "          Math.round((position / fileData.byteLength) * 100);\n",
              "      percent.textContent = `${percentDone}% done`;\n",
              "\n",
              "    } while (position < fileData.byteLength);\n",
              "  }\n",
              "\n",
              "  // All done.\n",
              "  yield {\n",
              "    response: {\n",
              "      action: 'complete',\n",
              "    }\n",
              "  };\n",
              "}\n",
              "\n",
              "scope.google = scope.google || {};\n",
              "scope.google.colab = scope.google.colab || {};\n",
              "scope.google.colab._files = {\n",
              "  _uploadFiles,\n",
              "  _uploadFilesContinue,\n",
              "};\n",
              "})(self);\n",
              "</script> "
            ]
          },
          "metadata": {}
        },
        {
          "output_type": "stream",
          "name": "stdout",
          "text": [
            "Saving kaggle.json to kaggle.json\n"
          ]
        },
        {
          "output_type": "execute_result",
          "data": {
            "text/plain": [
              "{'kaggle.json': b'{\"username\":\"gabrielrodrigu3s\",\"key\":\"fe928c1e99e63958dbb6df369a784b35\"}'}"
            ]
          },
          "metadata": {},
          "execution_count": 3
        }
      ]
    },
    {
      "cell_type": "markdown",
      "source": [
        "files.upload() abre uma interface para fazer upload de arquivos do computador para o ambiente Colab.\n",
        "\n",
        "O arquivo kaggle.json contém as credenciais da sua conta no Kaggle para autenticação.\n",
        "\n"
      ],
      "metadata": {
        "id": "L4oCUzcpaphr"
      }
    },
    {
      "cell_type": "code",
      "source": [
        "# Configurando o Kaggle no Colab\n",
        "!mkdir ~/.kaggle\n",
        "\n",
        "# Cria um diretório oculto chamado .kaggle no sistema do Colab.\n",
        "\n",
        "!cp kaggle.json ~/.kaggle/\n",
        "\n",
        "# Copia o arquivo kaggle.json que você fez o upload para o diretório .kaggle.\n",
        "\n",
        "!chmod 600 ~/.kaggle/kaggle.json\n",
        "\n",
        "# Altera as permissões do arquivo kaggle.json para que apenas o dono possa lê-lo e escrevê-lo.\n",
        "\n",
        "# Baixando o dataset\n",
        "!kaggle datasets download -d mlg-ulb/creditcardfraud\n",
        "\n",
        "# Usa a API do Kaggle para baixar o dataset \"Credit Card Fraud Detection\" identificado pelo ID mlg-ulb/creditcardfraud.\n",
        "\n",
        "!unzip creditcardfraud.zip\n",
        "\n",
        "# Descompacta o arquivo ZIP baixado, que contém o dataset em formato CSV."
      ],
      "metadata": {
        "id": "p75U3ZKaqQRf",
        "colab": {
          "base_uri": "https://localhost:8080/"
        },
        "outputId": "2fc6dfff-70ed-4cdb-bdff-2126244f65c6"
      },
      "execution_count": null,
      "outputs": [
        {
          "output_type": "stream",
          "name": "stdout",
          "text": [
            "Dataset URL: https://www.kaggle.com/datasets/mlg-ulb/creditcardfraud\n",
            "License(s): DbCL-1.0\n",
            "Downloading creditcardfraud.zip to /content\n",
            "100% 66.0M/66.0M [00:03<00:00, 31.1MB/s]\n",
            "100% 66.0M/66.0M [00:03<00:00, 22.6MB/s]\n",
            "Archive:  creditcardfraud.zip\n",
            "  inflating: creditcard.csv          \n"
          ]
        }
      ]
    },
    {
      "cell_type": "markdown",
      "source": [
        "## Etapa de Exploração e Limpeza de Dados"
      ],
      "metadata": {
        "id": "i3tq-XqdcZDQ"
      }
    },
    {
      "cell_type": "code",
      "source": [
        "import pandas as pd\n",
        "\n",
        "# Carregar o dataset\n",
        "df = pd.read_csv(\"creditcard.csv\")\n",
        "\n",
        "# Essa função carrega o dataset no formato CSV para um DataFrame, que é uma estrutura tabular usada no pandas.\n",
        "\n",
        "# Exibir as 5 primeiras linhas do dataset\n",
        "df.head()\n"
      ],
      "metadata": {
        "colab": {
          "base_uri": "https://localhost:8080/",
          "height": 256
        },
        "id": "DOQu-uktcyGG",
        "outputId": "9f5af607-3dbd-4722-9a11-4e2f1c02b306"
      },
      "execution_count": null,
      "outputs": [
        {
          "output_type": "execute_result",
          "data": {
            "text/plain": [
              "   Time        V1        V2        V3        V4        V5        V6        V7  \\\n",
              "0   0.0 -1.359807 -0.072781  2.536347  1.378155 -0.338321  0.462388  0.239599   \n",
              "1   0.0  1.191857  0.266151  0.166480  0.448154  0.060018 -0.082361 -0.078803   \n",
              "2   1.0 -1.358354 -1.340163  1.773209  0.379780 -0.503198  1.800499  0.791461   \n",
              "3   1.0 -0.966272 -0.185226  1.792993 -0.863291 -0.010309  1.247203  0.237609   \n",
              "4   2.0 -1.158233  0.877737  1.548718  0.403034 -0.407193  0.095921  0.592941   \n",
              "\n",
              "         V8        V9  ...       V21       V22       V23       V24       V25  \\\n",
              "0  0.098698  0.363787  ... -0.018307  0.277838 -0.110474  0.066928  0.128539   \n",
              "1  0.085102 -0.255425  ... -0.225775 -0.638672  0.101288 -0.339846  0.167170   \n",
              "2  0.247676 -1.514654  ...  0.247998  0.771679  0.909412 -0.689281 -0.327642   \n",
              "3  0.377436 -1.387024  ... -0.108300  0.005274 -0.190321 -1.175575  0.647376   \n",
              "4 -0.270533  0.817739  ... -0.009431  0.798278 -0.137458  0.141267 -0.206010   \n",
              "\n",
              "        V26       V27       V28  Amount  Class  \n",
              "0 -0.189115  0.133558 -0.021053  149.62      0  \n",
              "1  0.125895 -0.008983  0.014724    2.69      0  \n",
              "2 -0.139097 -0.055353 -0.059752  378.66      0  \n",
              "3 -0.221929  0.062723  0.061458  123.50      0  \n",
              "4  0.502292  0.219422  0.215153   69.99      0  \n",
              "\n",
              "[5 rows x 31 columns]"
            ],
            "text/html": [
              "\n",
              "  <div id=\"df-99cf0974-21f8-499a-9ec9-a4b4c20a3f23\" class=\"colab-df-container\">\n",
              "    <div>\n",
              "<style scoped>\n",
              "    .dataframe tbody tr th:only-of-type {\n",
              "        vertical-align: middle;\n",
              "    }\n",
              "\n",
              "    .dataframe tbody tr th {\n",
              "        vertical-align: top;\n",
              "    }\n",
              "\n",
              "    .dataframe thead th {\n",
              "        text-align: right;\n",
              "    }\n",
              "</style>\n",
              "<table border=\"1\" class=\"dataframe\">\n",
              "  <thead>\n",
              "    <tr style=\"text-align: right;\">\n",
              "      <th></th>\n",
              "      <th>Time</th>\n",
              "      <th>V1</th>\n",
              "      <th>V2</th>\n",
              "      <th>V3</th>\n",
              "      <th>V4</th>\n",
              "      <th>V5</th>\n",
              "      <th>V6</th>\n",
              "      <th>V7</th>\n",
              "      <th>V8</th>\n",
              "      <th>V9</th>\n",
              "      <th>...</th>\n",
              "      <th>V21</th>\n",
              "      <th>V22</th>\n",
              "      <th>V23</th>\n",
              "      <th>V24</th>\n",
              "      <th>V25</th>\n",
              "      <th>V26</th>\n",
              "      <th>V27</th>\n",
              "      <th>V28</th>\n",
              "      <th>Amount</th>\n",
              "      <th>Class</th>\n",
              "    </tr>\n",
              "  </thead>\n",
              "  <tbody>\n",
              "    <tr>\n",
              "      <th>0</th>\n",
              "      <td>0.0</td>\n",
              "      <td>-1.359807</td>\n",
              "      <td>-0.072781</td>\n",
              "      <td>2.536347</td>\n",
              "      <td>1.378155</td>\n",
              "      <td>-0.338321</td>\n",
              "      <td>0.462388</td>\n",
              "      <td>0.239599</td>\n",
              "      <td>0.098698</td>\n",
              "      <td>0.363787</td>\n",
              "      <td>...</td>\n",
              "      <td>-0.018307</td>\n",
              "      <td>0.277838</td>\n",
              "      <td>-0.110474</td>\n",
              "      <td>0.066928</td>\n",
              "      <td>0.128539</td>\n",
              "      <td>-0.189115</td>\n",
              "      <td>0.133558</td>\n",
              "      <td>-0.021053</td>\n",
              "      <td>149.62</td>\n",
              "      <td>0</td>\n",
              "    </tr>\n",
              "    <tr>\n",
              "      <th>1</th>\n",
              "      <td>0.0</td>\n",
              "      <td>1.191857</td>\n",
              "      <td>0.266151</td>\n",
              "      <td>0.166480</td>\n",
              "      <td>0.448154</td>\n",
              "      <td>0.060018</td>\n",
              "      <td>-0.082361</td>\n",
              "      <td>-0.078803</td>\n",
              "      <td>0.085102</td>\n",
              "      <td>-0.255425</td>\n",
              "      <td>...</td>\n",
              "      <td>-0.225775</td>\n",
              "      <td>-0.638672</td>\n",
              "      <td>0.101288</td>\n",
              "      <td>-0.339846</td>\n",
              "      <td>0.167170</td>\n",
              "      <td>0.125895</td>\n",
              "      <td>-0.008983</td>\n",
              "      <td>0.014724</td>\n",
              "      <td>2.69</td>\n",
              "      <td>0</td>\n",
              "    </tr>\n",
              "    <tr>\n",
              "      <th>2</th>\n",
              "      <td>1.0</td>\n",
              "      <td>-1.358354</td>\n",
              "      <td>-1.340163</td>\n",
              "      <td>1.773209</td>\n",
              "      <td>0.379780</td>\n",
              "      <td>-0.503198</td>\n",
              "      <td>1.800499</td>\n",
              "      <td>0.791461</td>\n",
              "      <td>0.247676</td>\n",
              "      <td>-1.514654</td>\n",
              "      <td>...</td>\n",
              "      <td>0.247998</td>\n",
              "      <td>0.771679</td>\n",
              "      <td>0.909412</td>\n",
              "      <td>-0.689281</td>\n",
              "      <td>-0.327642</td>\n",
              "      <td>-0.139097</td>\n",
              "      <td>-0.055353</td>\n",
              "      <td>-0.059752</td>\n",
              "      <td>378.66</td>\n",
              "      <td>0</td>\n",
              "    </tr>\n",
              "    <tr>\n",
              "      <th>3</th>\n",
              "      <td>1.0</td>\n",
              "      <td>-0.966272</td>\n",
              "      <td>-0.185226</td>\n",
              "      <td>1.792993</td>\n",
              "      <td>-0.863291</td>\n",
              "      <td>-0.010309</td>\n",
              "      <td>1.247203</td>\n",
              "      <td>0.237609</td>\n",
              "      <td>0.377436</td>\n",
              "      <td>-1.387024</td>\n",
              "      <td>...</td>\n",
              "      <td>-0.108300</td>\n",
              "      <td>0.005274</td>\n",
              "      <td>-0.190321</td>\n",
              "      <td>-1.175575</td>\n",
              "      <td>0.647376</td>\n",
              "      <td>-0.221929</td>\n",
              "      <td>0.062723</td>\n",
              "      <td>0.061458</td>\n",
              "      <td>123.50</td>\n",
              "      <td>0</td>\n",
              "    </tr>\n",
              "    <tr>\n",
              "      <th>4</th>\n",
              "      <td>2.0</td>\n",
              "      <td>-1.158233</td>\n",
              "      <td>0.877737</td>\n",
              "      <td>1.548718</td>\n",
              "      <td>0.403034</td>\n",
              "      <td>-0.407193</td>\n",
              "      <td>0.095921</td>\n",
              "      <td>0.592941</td>\n",
              "      <td>-0.270533</td>\n",
              "      <td>0.817739</td>\n",
              "      <td>...</td>\n",
              "      <td>-0.009431</td>\n",
              "      <td>0.798278</td>\n",
              "      <td>-0.137458</td>\n",
              "      <td>0.141267</td>\n",
              "      <td>-0.206010</td>\n",
              "      <td>0.502292</td>\n",
              "      <td>0.219422</td>\n",
              "      <td>0.215153</td>\n",
              "      <td>69.99</td>\n",
              "      <td>0</td>\n",
              "    </tr>\n",
              "  </tbody>\n",
              "</table>\n",
              "<p>5 rows × 31 columns</p>\n",
              "</div>\n",
              "    <div class=\"colab-df-buttons\">\n",
              "\n",
              "  <div class=\"colab-df-container\">\n",
              "    <button class=\"colab-df-convert\" onclick=\"convertToInteractive('df-99cf0974-21f8-499a-9ec9-a4b4c20a3f23')\"\n",
              "            title=\"Convert this dataframe to an interactive table.\"\n",
              "            style=\"display:none;\">\n",
              "\n",
              "  <svg xmlns=\"http://www.w3.org/2000/svg\" height=\"24px\" viewBox=\"0 -960 960 960\">\n",
              "    <path d=\"M120-120v-720h720v720H120Zm60-500h600v-160H180v160Zm220 220h160v-160H400v160Zm0 220h160v-160H400v160ZM180-400h160v-160H180v160Zm440 0h160v-160H620v160ZM180-180h160v-160H180v160Zm440 0h160v-160H620v160Z\"/>\n",
              "  </svg>\n",
              "    </button>\n",
              "\n",
              "  <style>\n",
              "    .colab-df-container {\n",
              "      display:flex;\n",
              "      gap: 12px;\n",
              "    }\n",
              "\n",
              "    .colab-df-convert {\n",
              "      background-color: #E8F0FE;\n",
              "      border: none;\n",
              "      border-radius: 50%;\n",
              "      cursor: pointer;\n",
              "      display: none;\n",
              "      fill: #1967D2;\n",
              "      height: 32px;\n",
              "      padding: 0 0 0 0;\n",
              "      width: 32px;\n",
              "    }\n",
              "\n",
              "    .colab-df-convert:hover {\n",
              "      background-color: #E2EBFA;\n",
              "      box-shadow: 0px 1px 2px rgba(60, 64, 67, 0.3), 0px 1px 3px 1px rgba(60, 64, 67, 0.15);\n",
              "      fill: #174EA6;\n",
              "    }\n",
              "\n",
              "    .colab-df-buttons div {\n",
              "      margin-bottom: 4px;\n",
              "    }\n",
              "\n",
              "    [theme=dark] .colab-df-convert {\n",
              "      background-color: #3B4455;\n",
              "      fill: #D2E3FC;\n",
              "    }\n",
              "\n",
              "    [theme=dark] .colab-df-convert:hover {\n",
              "      background-color: #434B5C;\n",
              "      box-shadow: 0px 1px 3px 1px rgba(0, 0, 0, 0.15);\n",
              "      filter: drop-shadow(0px 1px 2px rgba(0, 0, 0, 0.3));\n",
              "      fill: #FFFFFF;\n",
              "    }\n",
              "  </style>\n",
              "\n",
              "    <script>\n",
              "      const buttonEl =\n",
              "        document.querySelector('#df-99cf0974-21f8-499a-9ec9-a4b4c20a3f23 button.colab-df-convert');\n",
              "      buttonEl.style.display =\n",
              "        google.colab.kernel.accessAllowed ? 'block' : 'none';\n",
              "\n",
              "      async function convertToInteractive(key) {\n",
              "        const element = document.querySelector('#df-99cf0974-21f8-499a-9ec9-a4b4c20a3f23');\n",
              "        const dataTable =\n",
              "          await google.colab.kernel.invokeFunction('convertToInteractive',\n",
              "                                                    [key], {});\n",
              "        if (!dataTable) return;\n",
              "\n",
              "        const docLinkHtml = 'Like what you see? Visit the ' +\n",
              "          '<a target=\"_blank\" href=https://colab.research.google.com/notebooks/data_table.ipynb>data table notebook</a>'\n",
              "          + ' to learn more about interactive tables.';\n",
              "        element.innerHTML = '';\n",
              "        dataTable['output_type'] = 'display_data';\n",
              "        await google.colab.output.renderOutput(dataTable, element);\n",
              "        const docLink = document.createElement('div');\n",
              "        docLink.innerHTML = docLinkHtml;\n",
              "        element.appendChild(docLink);\n",
              "      }\n",
              "    </script>\n",
              "  </div>\n",
              "\n",
              "\n",
              "<div id=\"df-18108084-d8fd-417e-8b70-0cd29a7ba6a1\">\n",
              "  <button class=\"colab-df-quickchart\" onclick=\"quickchart('df-18108084-d8fd-417e-8b70-0cd29a7ba6a1')\"\n",
              "            title=\"Suggest charts\"\n",
              "            style=\"display:none;\">\n",
              "\n",
              "<svg xmlns=\"http://www.w3.org/2000/svg\" height=\"24px\"viewBox=\"0 0 24 24\"\n",
              "     width=\"24px\">\n",
              "    <g>\n",
              "        <path d=\"M19 3H5c-1.1 0-2 .9-2 2v14c0 1.1.9 2 2 2h14c1.1 0 2-.9 2-2V5c0-1.1-.9-2-2-2zM9 17H7v-7h2v7zm4 0h-2V7h2v10zm4 0h-2v-4h2v4z\"/>\n",
              "    </g>\n",
              "</svg>\n",
              "  </button>\n",
              "\n",
              "<style>\n",
              "  .colab-df-quickchart {\n",
              "      --bg-color: #E8F0FE;\n",
              "      --fill-color: #1967D2;\n",
              "      --hover-bg-color: #E2EBFA;\n",
              "      --hover-fill-color: #174EA6;\n",
              "      --disabled-fill-color: #AAA;\n",
              "      --disabled-bg-color: #DDD;\n",
              "  }\n",
              "\n",
              "  [theme=dark] .colab-df-quickchart {\n",
              "      --bg-color: #3B4455;\n",
              "      --fill-color: #D2E3FC;\n",
              "      --hover-bg-color: #434B5C;\n",
              "      --hover-fill-color: #FFFFFF;\n",
              "      --disabled-bg-color: #3B4455;\n",
              "      --disabled-fill-color: #666;\n",
              "  }\n",
              "\n",
              "  .colab-df-quickchart {\n",
              "    background-color: var(--bg-color);\n",
              "    border: none;\n",
              "    border-radius: 50%;\n",
              "    cursor: pointer;\n",
              "    display: none;\n",
              "    fill: var(--fill-color);\n",
              "    height: 32px;\n",
              "    padding: 0;\n",
              "    width: 32px;\n",
              "  }\n",
              "\n",
              "  .colab-df-quickchart:hover {\n",
              "    background-color: var(--hover-bg-color);\n",
              "    box-shadow: 0 1px 2px rgba(60, 64, 67, 0.3), 0 1px 3px 1px rgba(60, 64, 67, 0.15);\n",
              "    fill: var(--button-hover-fill-color);\n",
              "  }\n",
              "\n",
              "  .colab-df-quickchart-complete:disabled,\n",
              "  .colab-df-quickchart-complete:disabled:hover {\n",
              "    background-color: var(--disabled-bg-color);\n",
              "    fill: var(--disabled-fill-color);\n",
              "    box-shadow: none;\n",
              "  }\n",
              "\n",
              "  .colab-df-spinner {\n",
              "    border: 2px solid var(--fill-color);\n",
              "    border-color: transparent;\n",
              "    border-bottom-color: var(--fill-color);\n",
              "    animation:\n",
              "      spin 1s steps(1) infinite;\n",
              "  }\n",
              "\n",
              "  @keyframes spin {\n",
              "    0% {\n",
              "      border-color: transparent;\n",
              "      border-bottom-color: var(--fill-color);\n",
              "      border-left-color: var(--fill-color);\n",
              "    }\n",
              "    20% {\n",
              "      border-color: transparent;\n",
              "      border-left-color: var(--fill-color);\n",
              "      border-top-color: var(--fill-color);\n",
              "    }\n",
              "    30% {\n",
              "      border-color: transparent;\n",
              "      border-left-color: var(--fill-color);\n",
              "      border-top-color: var(--fill-color);\n",
              "      border-right-color: var(--fill-color);\n",
              "    }\n",
              "    40% {\n",
              "      border-color: transparent;\n",
              "      border-right-color: var(--fill-color);\n",
              "      border-top-color: var(--fill-color);\n",
              "    }\n",
              "    60% {\n",
              "      border-color: transparent;\n",
              "      border-right-color: var(--fill-color);\n",
              "    }\n",
              "    80% {\n",
              "      border-color: transparent;\n",
              "      border-right-color: var(--fill-color);\n",
              "      border-bottom-color: var(--fill-color);\n",
              "    }\n",
              "    90% {\n",
              "      border-color: transparent;\n",
              "      border-bottom-color: var(--fill-color);\n",
              "    }\n",
              "  }\n",
              "</style>\n",
              "\n",
              "  <script>\n",
              "    async function quickchart(key) {\n",
              "      const quickchartButtonEl =\n",
              "        document.querySelector('#' + key + ' button');\n",
              "      quickchartButtonEl.disabled = true;  // To prevent multiple clicks.\n",
              "      quickchartButtonEl.classList.add('colab-df-spinner');\n",
              "      try {\n",
              "        const charts = await google.colab.kernel.invokeFunction(\n",
              "            'suggestCharts', [key], {});\n",
              "      } catch (error) {\n",
              "        console.error('Error during call to suggestCharts:', error);\n",
              "      }\n",
              "      quickchartButtonEl.classList.remove('colab-df-spinner');\n",
              "      quickchartButtonEl.classList.add('colab-df-quickchart-complete');\n",
              "    }\n",
              "    (() => {\n",
              "      let quickchartButtonEl =\n",
              "        document.querySelector('#df-18108084-d8fd-417e-8b70-0cd29a7ba6a1 button');\n",
              "      quickchartButtonEl.style.display =\n",
              "        google.colab.kernel.accessAllowed ? 'block' : 'none';\n",
              "    })();\n",
              "  </script>\n",
              "</div>\n",
              "\n",
              "    </div>\n",
              "  </div>\n"
            ],
            "application/vnd.google.colaboratory.intrinsic+json": {
              "type": "dataframe",
              "variable_name": "df"
            }
          },
          "metadata": {},
          "execution_count": 5
        }
      ]
    },
    {
      "cell_type": "markdown",
      "source": [
        "## Observações"
      ],
      "metadata": {
        "id": "biuykHLpdISt"
      }
    },
    {
      "cell_type": "markdown",
      "source": [
        "### Qual o tamanho do DataSet ?"
      ],
      "metadata": {
        "id": "8mcxLu9JdmoJ"
      }
    },
    {
      "cell_type": "code",
      "source": [
        "df.shape # Retorna uma tupla com o número de linhas e colunas"
      ],
      "metadata": {
        "colab": {
          "base_uri": "https://localhost:8080/"
        },
        "id": "b_wFJmUAddxe",
        "outputId": "3e5c819d-8ef2-43b8-98c4-2b12ff5f68f8"
      },
      "execution_count": null,
      "outputs": [
        {
          "output_type": "execute_result",
          "data": {
            "text/plain": [
              "(284807, 31)"
            ]
          },
          "metadata": {},
          "execution_count": 6
        }
      ]
    },
    {
      "cell_type": "markdown",
      "source": [
        "### Indentificar valores ausentes ou inconsistentes"
      ],
      "metadata": {
        "id": "vWqBlFBMd9C-"
      }
    },
    {
      "cell_type": "code",
      "source": [
        "df.isnull().sum() # Soma o número de valores NaN (não preenchidos) em cada coluna."
      ],
      "metadata": {
        "colab": {
          "base_uri": "https://localhost:8080/",
          "height": 1000
        },
        "id": "5_IT6Th1eDqk",
        "outputId": "f6867e04-3a84-4a0c-8381-9722d2a61bea"
      },
      "execution_count": null,
      "outputs": [
        {
          "output_type": "execute_result",
          "data": {
            "text/plain": [
              "Time      0\n",
              "V1        0\n",
              "V2        0\n",
              "V3        0\n",
              "V4        0\n",
              "V5        0\n",
              "V6        0\n",
              "V7        0\n",
              "V8        0\n",
              "V9        0\n",
              "V10       0\n",
              "V11       0\n",
              "V12       0\n",
              "V13       0\n",
              "V14       0\n",
              "V15       0\n",
              "V16       0\n",
              "V17       0\n",
              "V18       0\n",
              "V19       0\n",
              "V20       0\n",
              "V21       0\n",
              "V22       0\n",
              "V23       0\n",
              "V24       0\n",
              "V25       0\n",
              "V26       0\n",
              "V27       0\n",
              "V28       0\n",
              "Amount    0\n",
              "Class     0\n",
              "dtype: int64"
            ],
            "text/html": [
              "<div>\n",
              "<style scoped>\n",
              "    .dataframe tbody tr th:only-of-type {\n",
              "        vertical-align: middle;\n",
              "    }\n",
              "\n",
              "    .dataframe tbody tr th {\n",
              "        vertical-align: top;\n",
              "    }\n",
              "\n",
              "    .dataframe thead th {\n",
              "        text-align: right;\n",
              "    }\n",
              "</style>\n",
              "<table border=\"1\" class=\"dataframe\">\n",
              "  <thead>\n",
              "    <tr style=\"text-align: right;\">\n",
              "      <th></th>\n",
              "      <th>0</th>\n",
              "    </tr>\n",
              "  </thead>\n",
              "  <tbody>\n",
              "    <tr>\n",
              "      <th>Time</th>\n",
              "      <td>0</td>\n",
              "    </tr>\n",
              "    <tr>\n",
              "      <th>V1</th>\n",
              "      <td>0</td>\n",
              "    </tr>\n",
              "    <tr>\n",
              "      <th>V2</th>\n",
              "      <td>0</td>\n",
              "    </tr>\n",
              "    <tr>\n",
              "      <th>V3</th>\n",
              "      <td>0</td>\n",
              "    </tr>\n",
              "    <tr>\n",
              "      <th>V4</th>\n",
              "      <td>0</td>\n",
              "    </tr>\n",
              "    <tr>\n",
              "      <th>V5</th>\n",
              "      <td>0</td>\n",
              "    </tr>\n",
              "    <tr>\n",
              "      <th>V6</th>\n",
              "      <td>0</td>\n",
              "    </tr>\n",
              "    <tr>\n",
              "      <th>V7</th>\n",
              "      <td>0</td>\n",
              "    </tr>\n",
              "    <tr>\n",
              "      <th>V8</th>\n",
              "      <td>0</td>\n",
              "    </tr>\n",
              "    <tr>\n",
              "      <th>V9</th>\n",
              "      <td>0</td>\n",
              "    </tr>\n",
              "    <tr>\n",
              "      <th>V10</th>\n",
              "      <td>0</td>\n",
              "    </tr>\n",
              "    <tr>\n",
              "      <th>V11</th>\n",
              "      <td>0</td>\n",
              "    </tr>\n",
              "    <tr>\n",
              "      <th>V12</th>\n",
              "      <td>0</td>\n",
              "    </tr>\n",
              "    <tr>\n",
              "      <th>V13</th>\n",
              "      <td>0</td>\n",
              "    </tr>\n",
              "    <tr>\n",
              "      <th>V14</th>\n",
              "      <td>0</td>\n",
              "    </tr>\n",
              "    <tr>\n",
              "      <th>V15</th>\n",
              "      <td>0</td>\n",
              "    </tr>\n",
              "    <tr>\n",
              "      <th>V16</th>\n",
              "      <td>0</td>\n",
              "    </tr>\n",
              "    <tr>\n",
              "      <th>V17</th>\n",
              "      <td>0</td>\n",
              "    </tr>\n",
              "    <tr>\n",
              "      <th>V18</th>\n",
              "      <td>0</td>\n",
              "    </tr>\n",
              "    <tr>\n",
              "      <th>V19</th>\n",
              "      <td>0</td>\n",
              "    </tr>\n",
              "    <tr>\n",
              "      <th>V20</th>\n",
              "      <td>0</td>\n",
              "    </tr>\n",
              "    <tr>\n",
              "      <th>V21</th>\n",
              "      <td>0</td>\n",
              "    </tr>\n",
              "    <tr>\n",
              "      <th>V22</th>\n",
              "      <td>0</td>\n",
              "    </tr>\n",
              "    <tr>\n",
              "      <th>V23</th>\n",
              "      <td>0</td>\n",
              "    </tr>\n",
              "    <tr>\n",
              "      <th>V24</th>\n",
              "      <td>0</td>\n",
              "    </tr>\n",
              "    <tr>\n",
              "      <th>V25</th>\n",
              "      <td>0</td>\n",
              "    </tr>\n",
              "    <tr>\n",
              "      <th>V26</th>\n",
              "      <td>0</td>\n",
              "    </tr>\n",
              "    <tr>\n",
              "      <th>V27</th>\n",
              "      <td>0</td>\n",
              "    </tr>\n",
              "    <tr>\n",
              "      <th>V28</th>\n",
              "      <td>0</td>\n",
              "    </tr>\n",
              "    <tr>\n",
              "      <th>Amount</th>\n",
              "      <td>0</td>\n",
              "    </tr>\n",
              "    <tr>\n",
              "      <th>Class</th>\n",
              "      <td>0</td>\n",
              "    </tr>\n",
              "  </tbody>\n",
              "</table>\n",
              "</div><br><label><b>dtype:</b> int64</label>"
            ]
          },
          "metadata": {},
          "execution_count": 7
        }
      ]
    },
    {
      "cell_type": "markdown",
      "source": [
        "Se encontrar valores ausentes, usamos técnicas como:\n",
        "\n",
        "- Preenchê-los com a média/mediana.\n",
        "\n",
        "- Remover linhas ou colunas inteiras, dependendo da situação.\n",
        "\n",
        "Mas não é o nosso caso aqui :)"
      ],
      "metadata": {
        "id": "kIsvnovFqoAY"
      }
    },
    {
      "cell_type": "markdown",
      "source": [
        "### Qual o significado de cada coluna ?"
      ],
      "metadata": {
        "id": "LlIcjswnedLK"
      }
    },
    {
      "cell_type": "markdown",
      "source": [
        "Como as colunas foram anonimizadas, aqui está uma breve descrição:\n",
        "\n",
        "**V1 a V28:** Componentes resultantes de uma Análise de Componentes Principais (PCA) para anonimizar os dados.\n",
        "\n",
        "**Time:** Tempo em segundos desde a primeira transação no dataset.\n",
        "\n",
        "**Amount:** Valor da transação.\n",
        "\n",
        "**Class:**\n",
        "\n",
        "**0:** Transação normal.\n",
        "\n",
        "**1:** Transação fraudulenta."
      ],
      "metadata": {
        "id": "HehyLBDoetG_"
      }
    },
    {
      "cell_type": "code",
      "source": [
        "# Para obter estatísticas básicas (média, desvio padrão, mínimo, máximo), usamos:\n",
        "\n",
        "df.describe()"
      ],
      "metadata": {
        "colab": {
          "base_uri": "https://localhost:8080/",
          "height": 350
        },
        "id": "ihHeclxjfBpw",
        "outputId": "a5cbac48-d0c7-4326-99c4-99dfb1e3c87f"
      },
      "execution_count": null,
      "outputs": [
        {
          "output_type": "execute_result",
          "data": {
            "text/plain": [
              "                Time            V1            V2            V3            V4  \\\n",
              "count  284807.000000  2.848070e+05  2.848070e+05  2.848070e+05  2.848070e+05   \n",
              "mean    94813.859575  1.168375e-15  3.416908e-16 -1.379537e-15  2.074095e-15   \n",
              "std     47488.145955  1.958696e+00  1.651309e+00  1.516255e+00  1.415869e+00   \n",
              "min         0.000000 -5.640751e+01 -7.271573e+01 -4.832559e+01 -5.683171e+00   \n",
              "25%     54201.500000 -9.203734e-01 -5.985499e-01 -8.903648e-01 -8.486401e-01   \n",
              "50%     84692.000000  1.810880e-02  6.548556e-02  1.798463e-01 -1.984653e-02   \n",
              "75%    139320.500000  1.315642e+00  8.037239e-01  1.027196e+00  7.433413e-01   \n",
              "max    172792.000000  2.454930e+00  2.205773e+01  9.382558e+00  1.687534e+01   \n",
              "\n",
              "                 V5            V6            V7            V8            V9  \\\n",
              "count  2.848070e+05  2.848070e+05  2.848070e+05  2.848070e+05  2.848070e+05   \n",
              "mean   9.604066e-16  1.487313e-15 -5.556467e-16  1.213481e-16 -2.406331e-15   \n",
              "std    1.380247e+00  1.332271e+00  1.237094e+00  1.194353e+00  1.098632e+00   \n",
              "min   -1.137433e+02 -2.616051e+01 -4.355724e+01 -7.321672e+01 -1.343407e+01   \n",
              "25%   -6.915971e-01 -7.682956e-01 -5.540759e-01 -2.086297e-01 -6.430976e-01   \n",
              "50%   -5.433583e-02 -2.741871e-01  4.010308e-02  2.235804e-02 -5.142873e-02   \n",
              "75%    6.119264e-01  3.985649e-01  5.704361e-01  3.273459e-01  5.971390e-01   \n",
              "max    3.480167e+01  7.330163e+01  1.205895e+02  2.000721e+01  1.559499e+01   \n",
              "\n",
              "       ...           V21           V22           V23           V24  \\\n",
              "count  ...  2.848070e+05  2.848070e+05  2.848070e+05  2.848070e+05   \n",
              "mean   ...  1.654067e-16 -3.568593e-16  2.578648e-16  4.473266e-15   \n",
              "std    ...  7.345240e-01  7.257016e-01  6.244603e-01  6.056471e-01   \n",
              "min    ... -3.483038e+01 -1.093314e+01 -4.480774e+01 -2.836627e+00   \n",
              "25%    ... -2.283949e-01 -5.423504e-01 -1.618463e-01 -3.545861e-01   \n",
              "50%    ... -2.945017e-02  6.781943e-03 -1.119293e-02  4.097606e-02   \n",
              "75%    ...  1.863772e-01  5.285536e-01  1.476421e-01  4.395266e-01   \n",
              "max    ...  2.720284e+01  1.050309e+01  2.252841e+01  4.584549e+00   \n",
              "\n",
              "                V25           V26           V27           V28         Amount  \\\n",
              "count  2.848070e+05  2.848070e+05  2.848070e+05  2.848070e+05  284807.000000   \n",
              "mean   5.340915e-16  1.683437e-15 -3.660091e-16 -1.227390e-16      88.349619   \n",
              "std    5.212781e-01  4.822270e-01  4.036325e-01  3.300833e-01     250.120109   \n",
              "min   -1.029540e+01 -2.604551e+00 -2.256568e+01 -1.543008e+01       0.000000   \n",
              "25%   -3.171451e-01 -3.269839e-01 -7.083953e-02 -5.295979e-02       5.600000   \n",
              "50%    1.659350e-02 -5.213911e-02  1.342146e-03  1.124383e-02      22.000000   \n",
              "75%    3.507156e-01  2.409522e-01  9.104512e-02  7.827995e-02      77.165000   \n",
              "max    7.519589e+00  3.517346e+00  3.161220e+01  3.384781e+01   25691.160000   \n",
              "\n",
              "               Class  \n",
              "count  284807.000000  \n",
              "mean        0.001727  \n",
              "std         0.041527  \n",
              "min         0.000000  \n",
              "25%         0.000000  \n",
              "50%         0.000000  \n",
              "75%         0.000000  \n",
              "max         1.000000  \n",
              "\n",
              "[8 rows x 31 columns]"
            ],
            "text/html": [
              "\n",
              "  <div id=\"df-3ceb6f52-4e68-4ec2-9f67-e542550816ec\" class=\"colab-df-container\">\n",
              "    <div>\n",
              "<style scoped>\n",
              "    .dataframe tbody tr th:only-of-type {\n",
              "        vertical-align: middle;\n",
              "    }\n",
              "\n",
              "    .dataframe tbody tr th {\n",
              "        vertical-align: top;\n",
              "    }\n",
              "\n",
              "    .dataframe thead th {\n",
              "        text-align: right;\n",
              "    }\n",
              "</style>\n",
              "<table border=\"1\" class=\"dataframe\">\n",
              "  <thead>\n",
              "    <tr style=\"text-align: right;\">\n",
              "      <th></th>\n",
              "      <th>Time</th>\n",
              "      <th>V1</th>\n",
              "      <th>V2</th>\n",
              "      <th>V3</th>\n",
              "      <th>V4</th>\n",
              "      <th>V5</th>\n",
              "      <th>V6</th>\n",
              "      <th>V7</th>\n",
              "      <th>V8</th>\n",
              "      <th>V9</th>\n",
              "      <th>...</th>\n",
              "      <th>V21</th>\n",
              "      <th>V22</th>\n",
              "      <th>V23</th>\n",
              "      <th>V24</th>\n",
              "      <th>V25</th>\n",
              "      <th>V26</th>\n",
              "      <th>V27</th>\n",
              "      <th>V28</th>\n",
              "      <th>Amount</th>\n",
              "      <th>Class</th>\n",
              "    </tr>\n",
              "  </thead>\n",
              "  <tbody>\n",
              "    <tr>\n",
              "      <th>count</th>\n",
              "      <td>284807.000000</td>\n",
              "      <td>2.848070e+05</td>\n",
              "      <td>2.848070e+05</td>\n",
              "      <td>2.848070e+05</td>\n",
              "      <td>2.848070e+05</td>\n",
              "      <td>2.848070e+05</td>\n",
              "      <td>2.848070e+05</td>\n",
              "      <td>2.848070e+05</td>\n",
              "      <td>2.848070e+05</td>\n",
              "      <td>2.848070e+05</td>\n",
              "      <td>...</td>\n",
              "      <td>2.848070e+05</td>\n",
              "      <td>2.848070e+05</td>\n",
              "      <td>2.848070e+05</td>\n",
              "      <td>2.848070e+05</td>\n",
              "      <td>2.848070e+05</td>\n",
              "      <td>2.848070e+05</td>\n",
              "      <td>2.848070e+05</td>\n",
              "      <td>2.848070e+05</td>\n",
              "      <td>284807.000000</td>\n",
              "      <td>284807.000000</td>\n",
              "    </tr>\n",
              "    <tr>\n",
              "      <th>mean</th>\n",
              "      <td>94813.859575</td>\n",
              "      <td>1.168375e-15</td>\n",
              "      <td>3.416908e-16</td>\n",
              "      <td>-1.379537e-15</td>\n",
              "      <td>2.074095e-15</td>\n",
              "      <td>9.604066e-16</td>\n",
              "      <td>1.487313e-15</td>\n",
              "      <td>-5.556467e-16</td>\n",
              "      <td>1.213481e-16</td>\n",
              "      <td>-2.406331e-15</td>\n",
              "      <td>...</td>\n",
              "      <td>1.654067e-16</td>\n",
              "      <td>-3.568593e-16</td>\n",
              "      <td>2.578648e-16</td>\n",
              "      <td>4.473266e-15</td>\n",
              "      <td>5.340915e-16</td>\n",
              "      <td>1.683437e-15</td>\n",
              "      <td>-3.660091e-16</td>\n",
              "      <td>-1.227390e-16</td>\n",
              "      <td>88.349619</td>\n",
              "      <td>0.001727</td>\n",
              "    </tr>\n",
              "    <tr>\n",
              "      <th>std</th>\n",
              "      <td>47488.145955</td>\n",
              "      <td>1.958696e+00</td>\n",
              "      <td>1.651309e+00</td>\n",
              "      <td>1.516255e+00</td>\n",
              "      <td>1.415869e+00</td>\n",
              "      <td>1.380247e+00</td>\n",
              "      <td>1.332271e+00</td>\n",
              "      <td>1.237094e+00</td>\n",
              "      <td>1.194353e+00</td>\n",
              "      <td>1.098632e+00</td>\n",
              "      <td>...</td>\n",
              "      <td>7.345240e-01</td>\n",
              "      <td>7.257016e-01</td>\n",
              "      <td>6.244603e-01</td>\n",
              "      <td>6.056471e-01</td>\n",
              "      <td>5.212781e-01</td>\n",
              "      <td>4.822270e-01</td>\n",
              "      <td>4.036325e-01</td>\n",
              "      <td>3.300833e-01</td>\n",
              "      <td>250.120109</td>\n",
              "      <td>0.041527</td>\n",
              "    </tr>\n",
              "    <tr>\n",
              "      <th>min</th>\n",
              "      <td>0.000000</td>\n",
              "      <td>-5.640751e+01</td>\n",
              "      <td>-7.271573e+01</td>\n",
              "      <td>-4.832559e+01</td>\n",
              "      <td>-5.683171e+00</td>\n",
              "      <td>-1.137433e+02</td>\n",
              "      <td>-2.616051e+01</td>\n",
              "      <td>-4.355724e+01</td>\n",
              "      <td>-7.321672e+01</td>\n",
              "      <td>-1.343407e+01</td>\n",
              "      <td>...</td>\n",
              "      <td>-3.483038e+01</td>\n",
              "      <td>-1.093314e+01</td>\n",
              "      <td>-4.480774e+01</td>\n",
              "      <td>-2.836627e+00</td>\n",
              "      <td>-1.029540e+01</td>\n",
              "      <td>-2.604551e+00</td>\n",
              "      <td>-2.256568e+01</td>\n",
              "      <td>-1.543008e+01</td>\n",
              "      <td>0.000000</td>\n",
              "      <td>0.000000</td>\n",
              "    </tr>\n",
              "    <tr>\n",
              "      <th>25%</th>\n",
              "      <td>54201.500000</td>\n",
              "      <td>-9.203734e-01</td>\n",
              "      <td>-5.985499e-01</td>\n",
              "      <td>-8.903648e-01</td>\n",
              "      <td>-8.486401e-01</td>\n",
              "      <td>-6.915971e-01</td>\n",
              "      <td>-7.682956e-01</td>\n",
              "      <td>-5.540759e-01</td>\n",
              "      <td>-2.086297e-01</td>\n",
              "      <td>-6.430976e-01</td>\n",
              "      <td>...</td>\n",
              "      <td>-2.283949e-01</td>\n",
              "      <td>-5.423504e-01</td>\n",
              "      <td>-1.618463e-01</td>\n",
              "      <td>-3.545861e-01</td>\n",
              "      <td>-3.171451e-01</td>\n",
              "      <td>-3.269839e-01</td>\n",
              "      <td>-7.083953e-02</td>\n",
              "      <td>-5.295979e-02</td>\n",
              "      <td>5.600000</td>\n",
              "      <td>0.000000</td>\n",
              "    </tr>\n",
              "    <tr>\n",
              "      <th>50%</th>\n",
              "      <td>84692.000000</td>\n",
              "      <td>1.810880e-02</td>\n",
              "      <td>6.548556e-02</td>\n",
              "      <td>1.798463e-01</td>\n",
              "      <td>-1.984653e-02</td>\n",
              "      <td>-5.433583e-02</td>\n",
              "      <td>-2.741871e-01</td>\n",
              "      <td>4.010308e-02</td>\n",
              "      <td>2.235804e-02</td>\n",
              "      <td>-5.142873e-02</td>\n",
              "      <td>...</td>\n",
              "      <td>-2.945017e-02</td>\n",
              "      <td>6.781943e-03</td>\n",
              "      <td>-1.119293e-02</td>\n",
              "      <td>4.097606e-02</td>\n",
              "      <td>1.659350e-02</td>\n",
              "      <td>-5.213911e-02</td>\n",
              "      <td>1.342146e-03</td>\n",
              "      <td>1.124383e-02</td>\n",
              "      <td>22.000000</td>\n",
              "      <td>0.000000</td>\n",
              "    </tr>\n",
              "    <tr>\n",
              "      <th>75%</th>\n",
              "      <td>139320.500000</td>\n",
              "      <td>1.315642e+00</td>\n",
              "      <td>8.037239e-01</td>\n",
              "      <td>1.027196e+00</td>\n",
              "      <td>7.433413e-01</td>\n",
              "      <td>6.119264e-01</td>\n",
              "      <td>3.985649e-01</td>\n",
              "      <td>5.704361e-01</td>\n",
              "      <td>3.273459e-01</td>\n",
              "      <td>5.971390e-01</td>\n",
              "      <td>...</td>\n",
              "      <td>1.863772e-01</td>\n",
              "      <td>5.285536e-01</td>\n",
              "      <td>1.476421e-01</td>\n",
              "      <td>4.395266e-01</td>\n",
              "      <td>3.507156e-01</td>\n",
              "      <td>2.409522e-01</td>\n",
              "      <td>9.104512e-02</td>\n",
              "      <td>7.827995e-02</td>\n",
              "      <td>77.165000</td>\n",
              "      <td>0.000000</td>\n",
              "    </tr>\n",
              "    <tr>\n",
              "      <th>max</th>\n",
              "      <td>172792.000000</td>\n",
              "      <td>2.454930e+00</td>\n",
              "      <td>2.205773e+01</td>\n",
              "      <td>9.382558e+00</td>\n",
              "      <td>1.687534e+01</td>\n",
              "      <td>3.480167e+01</td>\n",
              "      <td>7.330163e+01</td>\n",
              "      <td>1.205895e+02</td>\n",
              "      <td>2.000721e+01</td>\n",
              "      <td>1.559499e+01</td>\n",
              "      <td>...</td>\n",
              "      <td>2.720284e+01</td>\n",
              "      <td>1.050309e+01</td>\n",
              "      <td>2.252841e+01</td>\n",
              "      <td>4.584549e+00</td>\n",
              "      <td>7.519589e+00</td>\n",
              "      <td>3.517346e+00</td>\n",
              "      <td>3.161220e+01</td>\n",
              "      <td>3.384781e+01</td>\n",
              "      <td>25691.160000</td>\n",
              "      <td>1.000000</td>\n",
              "    </tr>\n",
              "  </tbody>\n",
              "</table>\n",
              "<p>8 rows × 31 columns</p>\n",
              "</div>\n",
              "    <div class=\"colab-df-buttons\">\n",
              "\n",
              "  <div class=\"colab-df-container\">\n",
              "    <button class=\"colab-df-convert\" onclick=\"convertToInteractive('df-3ceb6f52-4e68-4ec2-9f67-e542550816ec')\"\n",
              "            title=\"Convert this dataframe to an interactive table.\"\n",
              "            style=\"display:none;\">\n",
              "\n",
              "  <svg xmlns=\"http://www.w3.org/2000/svg\" height=\"24px\" viewBox=\"0 -960 960 960\">\n",
              "    <path d=\"M120-120v-720h720v720H120Zm60-500h600v-160H180v160Zm220 220h160v-160H400v160Zm0 220h160v-160H400v160ZM180-400h160v-160H180v160Zm440 0h160v-160H620v160ZM180-180h160v-160H180v160Zm440 0h160v-160H620v160Z\"/>\n",
              "  </svg>\n",
              "    </button>\n",
              "\n",
              "  <style>\n",
              "    .colab-df-container {\n",
              "      display:flex;\n",
              "      gap: 12px;\n",
              "    }\n",
              "\n",
              "    .colab-df-convert {\n",
              "      background-color: #E8F0FE;\n",
              "      border: none;\n",
              "      border-radius: 50%;\n",
              "      cursor: pointer;\n",
              "      display: none;\n",
              "      fill: #1967D2;\n",
              "      height: 32px;\n",
              "      padding: 0 0 0 0;\n",
              "      width: 32px;\n",
              "    }\n",
              "\n",
              "    .colab-df-convert:hover {\n",
              "      background-color: #E2EBFA;\n",
              "      box-shadow: 0px 1px 2px rgba(60, 64, 67, 0.3), 0px 1px 3px 1px rgba(60, 64, 67, 0.15);\n",
              "      fill: #174EA6;\n",
              "    }\n",
              "\n",
              "    .colab-df-buttons div {\n",
              "      margin-bottom: 4px;\n",
              "    }\n",
              "\n",
              "    [theme=dark] .colab-df-convert {\n",
              "      background-color: #3B4455;\n",
              "      fill: #D2E3FC;\n",
              "    }\n",
              "\n",
              "    [theme=dark] .colab-df-convert:hover {\n",
              "      background-color: #434B5C;\n",
              "      box-shadow: 0px 1px 3px 1px rgba(0, 0, 0, 0.15);\n",
              "      filter: drop-shadow(0px 1px 2px rgba(0, 0, 0, 0.3));\n",
              "      fill: #FFFFFF;\n",
              "    }\n",
              "  </style>\n",
              "\n",
              "    <script>\n",
              "      const buttonEl =\n",
              "        document.querySelector('#df-3ceb6f52-4e68-4ec2-9f67-e542550816ec button.colab-df-convert');\n",
              "      buttonEl.style.display =\n",
              "        google.colab.kernel.accessAllowed ? 'block' : 'none';\n",
              "\n",
              "      async function convertToInteractive(key) {\n",
              "        const element = document.querySelector('#df-3ceb6f52-4e68-4ec2-9f67-e542550816ec');\n",
              "        const dataTable =\n",
              "          await google.colab.kernel.invokeFunction('convertToInteractive',\n",
              "                                                    [key], {});\n",
              "        if (!dataTable) return;\n",
              "\n",
              "        const docLinkHtml = 'Like what you see? Visit the ' +\n",
              "          '<a target=\"_blank\" href=https://colab.research.google.com/notebooks/data_table.ipynb>data table notebook</a>'\n",
              "          + ' to learn more about interactive tables.';\n",
              "        element.innerHTML = '';\n",
              "        dataTable['output_type'] = 'display_data';\n",
              "        await google.colab.output.renderOutput(dataTable, element);\n",
              "        const docLink = document.createElement('div');\n",
              "        docLink.innerHTML = docLinkHtml;\n",
              "        element.appendChild(docLink);\n",
              "      }\n",
              "    </script>\n",
              "  </div>\n",
              "\n",
              "\n",
              "<div id=\"df-e5cc2d98-dd3d-49bf-ab15-6a695d07846f\">\n",
              "  <button class=\"colab-df-quickchart\" onclick=\"quickchart('df-e5cc2d98-dd3d-49bf-ab15-6a695d07846f')\"\n",
              "            title=\"Suggest charts\"\n",
              "            style=\"display:none;\">\n",
              "\n",
              "<svg xmlns=\"http://www.w3.org/2000/svg\" height=\"24px\"viewBox=\"0 0 24 24\"\n",
              "     width=\"24px\">\n",
              "    <g>\n",
              "        <path d=\"M19 3H5c-1.1 0-2 .9-2 2v14c0 1.1.9 2 2 2h14c1.1 0 2-.9 2-2V5c0-1.1-.9-2-2-2zM9 17H7v-7h2v7zm4 0h-2V7h2v10zm4 0h-2v-4h2v4z\"/>\n",
              "    </g>\n",
              "</svg>\n",
              "  </button>\n",
              "\n",
              "<style>\n",
              "  .colab-df-quickchart {\n",
              "      --bg-color: #E8F0FE;\n",
              "      --fill-color: #1967D2;\n",
              "      --hover-bg-color: #E2EBFA;\n",
              "      --hover-fill-color: #174EA6;\n",
              "      --disabled-fill-color: #AAA;\n",
              "      --disabled-bg-color: #DDD;\n",
              "  }\n",
              "\n",
              "  [theme=dark] .colab-df-quickchart {\n",
              "      --bg-color: #3B4455;\n",
              "      --fill-color: #D2E3FC;\n",
              "      --hover-bg-color: #434B5C;\n",
              "      --hover-fill-color: #FFFFFF;\n",
              "      --disabled-bg-color: #3B4455;\n",
              "      --disabled-fill-color: #666;\n",
              "  }\n",
              "\n",
              "  .colab-df-quickchart {\n",
              "    background-color: var(--bg-color);\n",
              "    border: none;\n",
              "    border-radius: 50%;\n",
              "    cursor: pointer;\n",
              "    display: none;\n",
              "    fill: var(--fill-color);\n",
              "    height: 32px;\n",
              "    padding: 0;\n",
              "    width: 32px;\n",
              "  }\n",
              "\n",
              "  .colab-df-quickchart:hover {\n",
              "    background-color: var(--hover-bg-color);\n",
              "    box-shadow: 0 1px 2px rgba(60, 64, 67, 0.3), 0 1px 3px 1px rgba(60, 64, 67, 0.15);\n",
              "    fill: var(--button-hover-fill-color);\n",
              "  }\n",
              "\n",
              "  .colab-df-quickchart-complete:disabled,\n",
              "  .colab-df-quickchart-complete:disabled:hover {\n",
              "    background-color: var(--disabled-bg-color);\n",
              "    fill: var(--disabled-fill-color);\n",
              "    box-shadow: none;\n",
              "  }\n",
              "\n",
              "  .colab-df-spinner {\n",
              "    border: 2px solid var(--fill-color);\n",
              "    border-color: transparent;\n",
              "    border-bottom-color: var(--fill-color);\n",
              "    animation:\n",
              "      spin 1s steps(1) infinite;\n",
              "  }\n",
              "\n",
              "  @keyframes spin {\n",
              "    0% {\n",
              "      border-color: transparent;\n",
              "      border-bottom-color: var(--fill-color);\n",
              "      border-left-color: var(--fill-color);\n",
              "    }\n",
              "    20% {\n",
              "      border-color: transparent;\n",
              "      border-left-color: var(--fill-color);\n",
              "      border-top-color: var(--fill-color);\n",
              "    }\n",
              "    30% {\n",
              "      border-color: transparent;\n",
              "      border-left-color: var(--fill-color);\n",
              "      border-top-color: var(--fill-color);\n",
              "      border-right-color: var(--fill-color);\n",
              "    }\n",
              "    40% {\n",
              "      border-color: transparent;\n",
              "      border-right-color: var(--fill-color);\n",
              "      border-top-color: var(--fill-color);\n",
              "    }\n",
              "    60% {\n",
              "      border-color: transparent;\n",
              "      border-right-color: var(--fill-color);\n",
              "    }\n",
              "    80% {\n",
              "      border-color: transparent;\n",
              "      border-right-color: var(--fill-color);\n",
              "      border-bottom-color: var(--fill-color);\n",
              "    }\n",
              "    90% {\n",
              "      border-color: transparent;\n",
              "      border-bottom-color: var(--fill-color);\n",
              "    }\n",
              "  }\n",
              "</style>\n",
              "\n",
              "  <script>\n",
              "    async function quickchart(key) {\n",
              "      const quickchartButtonEl =\n",
              "        document.querySelector('#' + key + ' button');\n",
              "      quickchartButtonEl.disabled = true;  // To prevent multiple clicks.\n",
              "      quickchartButtonEl.classList.add('colab-df-spinner');\n",
              "      try {\n",
              "        const charts = await google.colab.kernel.invokeFunction(\n",
              "            'suggestCharts', [key], {});\n",
              "      } catch (error) {\n",
              "        console.error('Error during call to suggestCharts:', error);\n",
              "      }\n",
              "      quickchartButtonEl.classList.remove('colab-df-spinner');\n",
              "      quickchartButtonEl.classList.add('colab-df-quickchart-complete');\n",
              "    }\n",
              "    (() => {\n",
              "      let quickchartButtonEl =\n",
              "        document.querySelector('#df-e5cc2d98-dd3d-49bf-ab15-6a695d07846f button');\n",
              "      quickchartButtonEl.style.display =\n",
              "        google.colab.kernel.accessAllowed ? 'block' : 'none';\n",
              "    })();\n",
              "  </script>\n",
              "</div>\n",
              "\n",
              "    </div>\n",
              "  </div>\n"
            ],
            "application/vnd.google.colaboratory.intrinsic+json": {
              "type": "dataframe"
            }
          },
          "metadata": {},
          "execution_count": 8
        }
      ]
    },
    {
      "cell_type": "markdown",
      "source": [
        "### Vamos interpretar os dados até agora !"
      ],
      "metadata": {
        "id": "_3rlXHsigJWa"
      }
    },
    {
      "cell_type": "markdown",
      "source": [
        "**count**\n",
        "\n",
        "**O que é:** Número total de valores não nulos em cada coluna.\n",
        "\n",
        "**O que indica:** Se o número em uma coluna for menor que o total de linhas do dataset (ex.: 284807), temos valores ausentes.\n",
        "\n",
        "No nosso caso, todas as colunas possuem 284.807 valores, ou seja, sem valores ausentes."
      ],
      "metadata": {
        "id": "YK0sGMaygQtD"
      }
    },
    {
      "cell_type": "markdown",
      "source": [
        "**mean**\n",
        "\n",
        "**O que é:** Média aritmética dos valores da coluna.\n",
        "\n",
        "**O que indica:** O \"valor típico\" da coluna. Útil para colunas como Amount (valor das transações) para entender o ticket médio.\n",
        "\n",
        "No nosso caso, Amount tem média 88.349, o que significa que o valor médio das transações é de 88.349 unidades monetárias (provavelmente dólares)."
      ],
      "metadata": {
        "id": "_Wtz1COsgd8y"
      }
    },
    {
      "cell_type": "markdown",
      "source": [
        "**std (desvio padrão)**\n",
        "\n",
        "**O que é:** Mede a dispersão dos valores em relação à média.\n",
        "\n",
        "**O que indica:** Quanto os dados variam. Um std alto indica maior variabilidade; um baixo, indica que os dados estão mais próximos da média.\n",
        "\n",
        "O valor das transações variam bastante, com um desvio padrão de 250."
      ],
      "metadata": {
        "id": "iSph_di2pATg"
      }
    },
    {
      "cell_type": "markdown",
      "source": [
        "**min**\n",
        "\n",
        "**O que é:** O menor valor da coluna.\n",
        "\n",
        "**O que indica:** O limite inferior dos dados. Ajuda a detectar possíveis valores inválidos.\n",
        "\n",
        "Há transações cujo valor é 0 (normal em alguns contextos, como transações promocionais)."
      ],
      "metadata": {
        "id": "3rVEpJAepbAo"
      }
    },
    {
      "cell_type": "markdown",
      "source": [
        "**25%, 50% (median), 75%**\n",
        "\n",
        "**O que são:** Percentis. Dividem os dados em quatro partes iguais.\n",
        "\n",
        "**25% (primeiro quartil):** 25% das transações têm valor abaixo desse número.\n",
        "\n",
        "**50% (mediana):** Metade das transações têm valor abaixo desse número.\n",
        "\n",
        "**75% (terceiro quartil):** 75% das transações têm valor abaixo desse número.\n",
        "\n",
        "**O que indicam:** Como os dados estão distribuídos.\n",
        "\n",
        "Considerando que a unidade monetária é o dolar:\n",
        "\n",
        "25% das transações são menores que $5.60.\n",
        "\n",
        "50% (a mediana) são menores que $22.\n",
        "\n",
        "Apenas 25% são maiores que $77."
      ],
      "metadata": {
        "id": "12X4Sc5vpgq0"
      }
    },
    {
      "cell_type": "markdown",
      "source": [
        "**max**\n",
        "\n",
        "**O que é:** O maior valor da coluna.\n",
        "\n",
        "**O que indica:** O limite superior dos dados. Ajuda a identificar outliers (valores fora do padrão).\n",
        "\n",
        "Há uma transação no dataset que custa $25.691."
      ],
      "metadata": {
        "id": "WJSomB4tpzAB"
      }
    },
    {
      "cell_type": "markdown",
      "source": [
        "### O que devemos observar aqui ?"
      ],
      "metadata": {
        "id": "0L27pMvfq4_I"
      }
    },
    {
      "cell_type": "markdown",
      "source": [
        "**Valores inconsistentes:**\n",
        "\n",
        "- Exemplo: Amount com valores negativos (não faz sentido para transações).\n",
        "\n",
        "- Desvios-padrão muito altos (outliers).\n",
        "\n",
        "**Transações com valor zero (Amount):**\n",
        "\n",
        "- Podem representar situações especiais, como promoções, devoluções ou erros de processamento. É importante analisar se estão relacionadas a fraudes ou não.\n",
        "\n",
        "**Distribuição do tempo (Time):**\n",
        "\n",
        "- Essa coluna representa o tempo decorrido desde a primeira transação. Pode ser útil para observar padrões temporais, como:\n",
        "  - Fraudes ocorrem em horários específicos (ex.: madrugada)?\n",
        "  - Existe um agrupamento de fraudes em períodos curtos (indicando ataques direcionados)?\n",
        "\n",
        "**Insights úteis:**\n",
        "\n",
        "- A maioria das transações tem valores baixos (mediana de $22).\n",
        "- Há valores extremos que podem ser outliers legítimos ou fraudes."
      ],
      "metadata": {
        "id": "hXzdlmqrq8bj"
      }
    },
    {
      "cell_type": "markdown",
      "source": [
        "### Análise da Distribuição de Classes"
      ],
      "metadata": {
        "id": "r3UT3Cm_uiVQ"
      }
    },
    {
      "cell_type": "code",
      "source": [
        "print(df['Class'].value_counts())\n",
        "print(df['Class'].value_counts(normalize=True))"
      ],
      "metadata": {
        "colab": {
          "base_uri": "https://localhost:8080/"
        },
        "id": "-5qzmWqxurKj",
        "outputId": "4baf0437-1e2f-40aa-baf4-997056050a2a"
      },
      "execution_count": null,
      "outputs": [
        {
          "output_type": "stream",
          "name": "stdout",
          "text": [
            "Class\n",
            "0    284315\n",
            "1       492\n",
            "Name: count, dtype: int64\n",
            "Class\n",
            "0    0.998273\n",
            "1    0.001727\n",
            "Name: proportion, dtype: float64\n"
          ]
        }
      ]
    },
    {
      "cell_type": "markdown",
      "source": [
        "- df['Class']: Seleciona a coluna Class do DataFrame.\n",
        "\n",
        "- value_counts(): Conta quantas vezes cada valor aparece nessa coluna (fraudes e não fraudes).\n",
        "\n",
        "- normalize=True: Calcula as proporções em vez de valores absolutos, mostrando o percentual de cada classe.\n",
        "\n",
        "- Por que isso importa?: Identificamos se o dataset está desbalanceado e precisamos ajustar isso antes de treinar modelos."
      ],
      "metadata": {
        "id": "7P8BUqVuvVkz"
      }
    },
    {
      "cell_type": "markdown",
      "source": [
        "### Análise da Distribuição de Amount e Time"
      ],
      "metadata": {
        "id": "mbUnUUz7vq_d"
      }
    },
    {
      "cell_type": "code",
      "source": [
        "df['Amount'].hist(bins=50)"
      ],
      "metadata": {
        "colab": {
          "base_uri": "https://localhost:8080/",
          "height": 447
        },
        "id": "kFQZye3Zvxcj",
        "outputId": "68bab0f4-7ce7-46c5-9471-931688cb7001"
      },
      "execution_count": null,
      "outputs": [
        {
          "output_type": "execute_result",
          "data": {
            "text/plain": [
              "<Axes: >"
            ]
          },
          "metadata": {},
          "execution_count": 10
        },
        {
          "output_type": "display_data",
          "data": {
            "text/plain": [
              "<Figure size 640x480 with 1 Axes>"
            ],
            "image/png": "[encoded data removed]"
          },
          "metadata": {}
        }
      ]
    },
    {
      "cell_type": "markdown",
      "source": [
        "- df['Amount']: Seleciona a coluna Amount com os valores das transações.\n",
        "\n",
        "- .hist(bins=50): Cria um histograma com 50 intervalos (bins), mostrando a frequência de valores em cada faixa.\n",
        "\n",
        "- Por que isso importa?: Ajuda a entender como os valores de transação estão distribuídos. Grandes concentrações podem indicar comportamento comum, enquanto outliers podem sinalizar suspeitas."
      ],
      "metadata": {
        "id": "F7LPawedv2PW"
      }
    },
    {
      "cell_type": "code",
      "source": [
        "df['Time'].hist(bins=50)"
      ],
      "metadata": {
        "colab": {
          "base_uri": "https://localhost:8080/",
          "height": 447
        },
        "id": "S90PVNizwnVT",
        "outputId": "27d22c14-c560-45d6-8371-79a7a409ad6b"
      },
      "execution_count": null,
      "outputs": [
        {
          "output_type": "execute_result",
          "data": {
            "text/plain": [
              "<Axes: >"
            ]
          },
          "metadata": {},
          "execution_count": 11
        },
        {
          "output_type": "display_data",
          "data": {
            "text/plain": [
              "<Figure size 640x480 with 1 Axes>"
            ],
            "image/png": "[encoded data removed]"
          },
          "metadata": {}
        }
      ]
    },
    {
      "cell_type": "markdown",
      "source": [
        "- df['Time']: Seleciona a coluna Time com os tempos das transações.\n",
        "\n",
        "- Por que isso importa?: Verificamos se há padrões temporais, como horários mais propensos a fraudes."
      ],
      "metadata": {
        "id": "48HJcK8gwpXm"
      }
    },
    {
      "cell_type": "markdown",
      "source": [
        "### Explorar Outliers"
      ],
      "metadata": {
        "id": "vuZPQ2FmxROm"
      }
    },
    {
      "cell_type": "markdown",
      "source": [],
      "metadata": {
        "id": "n2wwo5sUxcXi"
      }
    },
    {
      "cell_type": "code",
      "source": [
        "import seaborn as sns\n",
        "sns.boxplot(x=df['Amount'])"
      ],
      "metadata": {
        "colab": {
          "base_uri": "https://localhost:8080/",
          "height": 466
        },
        "id": "pArQPyd6wwzV",
        "outputId": "90a4806f-0cab-4f2b-ef81-b6d003a8bdd6"
      },
      "execution_count": null,
      "outputs": [
        {
          "output_type": "execute_result",
          "data": {
            "text/plain": [
              "<Axes: xlabel='Amount'>"
            ]
          },
          "metadata": {},
          "execution_count": 12
        },
        {
          "output_type": "display_data",
          "data": {
            "text/plain": [
              "<Figure size 640x480 with 1 Axes>"
            ],
            "image/png": "[encoded data removed]"
          },
          "metadata": {}
        }
      ]
    },
    {
      "cell_type": "markdown",
      "source": [
        "- import seaborn as sns: Importa a biblioteca Seaborn para criar gráficos mais sofisticados.\n",
        "\n",
        "- sns.boxplot(): Cria um boxplot, que mostra a distribuição de dados, os limites (quartis) e os outliers.\n",
        "\n",
        "- x=df['Amount']: Plota a coluna Amount no eixo X.\n",
        "\n",
        "- Por que isso importa?: Identificamos valores extremos que podem distorcer os modelos ou indicar comportamento fraudulento."
      ],
      "metadata": {
        "id": "uNeUmzpUwzeI"
      }
    },
    {
      "cell_type": "code",
      "source": [
        "sns.boxplot(x='Class', y='Amount', data=df)"
      ],
      "metadata": {
        "colab": {
          "base_uri": "https://localhost:8080/",
          "height": 466
        },
        "id": "B0hLLT87xCA8",
        "outputId": "ecf867aa-4e91-49cb-f813-c0913bddd8ff"
      },
      "execution_count": null,
      "outputs": [
        {
          "output_type": "execute_result",
          "data": {
            "text/plain": [
              "<Axes: xlabel='Class', ylabel='Amount'>"
            ]
          },
          "metadata": {},
          "execution_count": 13
        },
        {
          "output_type": "display_data",
          "data": {
            "text/plain": [
              "<Figure size 640x480 with 1 Axes>"
            ],
            "image/png": "[encoded data removed]"
          },
          "metadata": {}
        }
      ]
    },
    {
      "cell_type": "markdown",
      "source": [
        "- x='Class', y='Amount': Compara a distribuição de Amount para cada classe (Class = 0 ou 1).\n",
        "\n",
        "- data=df: Diz que os dados vêm do DataFrame df.\n",
        "\n",
        "- Por que isso importa?: Mostra diferenças de comportamento entre fraudes e transações normais."
      ],
      "metadata": {
        "id": "d2FWQW3PxDGD"
      }
    },
    {
      "cell_type": "markdown",
      "source": [
        "### Relação Entre Amount, Time, e Class"
      ],
      "metadata": {
        "id": "yY7hYZ-pxQ1t"
      }
    },
    {
      "cell_type": "code",
      "source": [
        "df.plot.scatter(x='Time', y='Amount', c='Class', colormap='viridis')"
      ],
      "metadata": {
        "colab": {
          "base_uri": "https://localhost:8080/",
          "height": 472
        },
        "id": "-I11dQ62xf7T",
        "outputId": "2d0bb8ba-cc61-4211-ff2f-e9f39ba1e8e8"
      },
      "execution_count": null,
      "outputs": [
        {
          "output_type": "execute_result",
          "data": {
            "text/plain": [
              "<Axes: xlabel='Time', ylabel='Amount'>"
            ]
          },
          "metadata": {},
          "execution_count": 14
        },
        {
          "output_type": "display_data",
          "data": {
            "text/plain": [
              "<Figure size 640x480 with 2 Axes>"
            ],
            "image/png": "[encoded data removed]"
          },
          "metadata": {}
        }
      ]
    },
    {
      "cell_type": "markdown",
      "source": [
        "- plot.scatter(): Cria um gráfico de dispersão.\n",
        "\n",
        "- x='Time' e y='Amount': Coloca o tempo no eixo X e o valor das transações no eixo Y.\n",
        "\n",
        "- c='Class': Usa a classe (Class) como cor para diferenciar fraudes de transações normais.\n",
        "\n",
        "- colormap='viridis': Aplica uma paleta de cores para destacar as diferenças.\n",
        "\n",
        "- Por que isso importa?: Visualizamos como Time e Amount se relacionam com fraudes, procurando padrões como aglomerações ou transações incomuns."
      ],
      "metadata": {
        "id": "wEAvYZcFxjO0"
      }
    },
    {
      "cell_type": "markdown",
      "source": [
        "### Melhorando a Vizualização"
      ],
      "metadata": {
        "id": "DPx5CrwcyVOP"
      }
    },
    {
      "cell_type": "markdown",
      "source": [
        "A variável Class = 1 representa uma pequena fração dos dados.\n",
        "\n",
        "Em gráficos de dispersão padrão, esses pontos podem ser \"engolidos\" pela grande quantidade de pontos de transações normais (Class = 0).\n",
        "\n",
        "Vamos destacar as fraudes no gráfico:"
      ],
      "metadata": {
        "id": "ei8ISFpUyZJj"
      }
    },
    {
      "cell_type": "markdown",
      "source": [
        "Ajustando o tamanho dos pontos:"
      ],
      "metadata": {
        "id": "Z1Q7mq4Cym8N"
      }
    },
    {
      "cell_type": "code",
      "source": [
        "df.plot.scatter(x='Time', y='Amount', c='Class', colormap='viridis', s=10)"
      ],
      "metadata": {
        "colab": {
          "base_uri": "https://localhost:8080/",
          "height": 472
        },
        "id": "wmPHT_2MyqWq",
        "outputId": "f575b72d-44cb-4ef5-c631-9bc99a09f46c"
      },
      "execution_count": null,
      "outputs": [
        {
          "output_type": "execute_result",
          "data": {
            "text/plain": [
              "<Axes: xlabel='Time', ylabel='Amount'>"
            ]
          },
          "metadata": {},
          "execution_count": 15
        },
        {
          "output_type": "display_data",
          "data": {
            "text/plain": [
              "<Figure size 640x480 with 2 Axes>"
            ],
            "image/png": "[encoded data removed]"
          },
          "metadata": {}
        }
      ]
    },
    {
      "cell_type": "markdown",
      "source": [
        "Não ajudou muito, vamos tentar separar as classes:"
      ],
      "metadata": {
        "id": "kvkMGo8tyzSC"
      }
    },
    {
      "cell_type": "code",
      "source": [
        "df_fraud = df[df['Class'] == 1]\n",
        "df_normal = df[df['Class'] == 0]\n",
        "\n",
        "ax = df_normal.plot.scatter(x='Time', y='Amount', color='blue', label='Normal', alpha=0.5)\n",
        "df_fraud.plot.scatter(x='Time', y='Amount', color='red', label='Fraude', alpha=0.8, ax=ax)"
      ],
      "metadata": {
        "colab": {
          "base_uri": "https://localhost:8080/",
          "height": 466
        },
        "id": "R8jX4DEWy4Ir",
        "outputId": "e0f7aa0f-ddef-4de7-b9c0-4405260e2ae9"
      },
      "execution_count": null,
      "outputs": [
        {
          "output_type": "execute_result",
          "data": {
            "text/plain": [
              "<Axes: xlabel='Time', ylabel='Amount'>"
            ]
          },
          "metadata": {},
          "execution_count": 16
        },
        {
          "output_type": "display_data",
          "data": {
            "text/plain": [
              "<Figure size 640x480 with 1 Axes>"
            ],
            "image/png": "[encoded data removed]"
          },
          "metadata": {}
        }
      ]
    },
    {
      "cell_type": "markdown",
      "source": [
        "- alpha: Ajusta a transparência para lidar com a sobreposição de pontos.\n",
        "\n",
        "- Diferentes cores: Destacamos fraudes em vermelho."
      ],
      "metadata": {
        "id": "CodHNleLy-w5"
      }
    },
    {
      "cell_type": "markdown",
      "source": [
        "Agora filtrando para exibir apenas um subconjunto dos dados (os primeiros 10.000)"
      ],
      "metadata": {
        "id": "JhwJX_MRzK59"
      }
    },
    {
      "cell_type": "code",
      "source": [
        "subset = df.iloc[:10000]\n",
        "subset.plot.scatter(x='Time', y='Amount', c='Class', colormap='viridis', s=10)"
      ],
      "metadata": {
        "colab": {
          "base_uri": "https://localhost:8080/",
          "height": 472
        },
        "id": "ICV6t8MtzSz-",
        "outputId": "c9d16cb8-13fb-4042-eafa-d7246919e8ce"
      },
      "execution_count": null,
      "outputs": [
        {
          "output_type": "execute_result",
          "data": {
            "text/plain": [
              "<Axes: xlabel='Time', ylabel='Amount'>"
            ]
          },
          "metadata": {},
          "execution_count": 17
        },
        {
          "output_type": "display_data",
          "data": {
            "text/plain": [
              "<Figure size 640x480 with 2 Axes>"
            ],
            "image/png": "[encoded data removed]"
          },
          "metadata": {}
        }
      ]
    },
    {
      "cell_type": "markdown",
      "source": [
        "# Limpeza e Preparação de Dados"
      ],
      "metadata": {
        "id": "shSbzycr1GMj"
      }
    },
    {
      "cell_type": "markdown",
      "source": [
        "### Tratar Outliers"
      ],
      "metadata": {
        "id": "26Iyose21MnB"
      }
    },
    {
      "cell_type": "markdown",
      "source": [
        "Já observamos na análise exploratória que Amount tem grande variação. Vamos verificar estatisticamente se há outliers extremos:"
      ],
      "metadata": {
        "id": "YaBIUWvG1QRx"
      }
    },
    {
      "cell_type": "code",
      "source": [
        "import numpy as np\n",
        "\n",
        "Q1 = df['Amount'].quantile(0.25)\n",
        "Q3 = df['Amount'].quantile(0.75)\n",
        "IQR = Q3 - Q1\n",
        "\n",
        "outliers = ((df['Amount'] < (Q1 - 1.5 * IQR)) | (df['Amount'] > (Q3 + 1.5 * IQR))).sum()\n",
        "print(f\"Número de outliers em Amount: {outliers}\")"
      ],
      "metadata": {
        "colab": {
          "base_uri": "https://localhost:8080/"
        },
        "id": "Uq5PscEH1R9g",
        "outputId": "2814900b-2155-45d6-a5c6-04775286a591"
      },
      "execution_count": null,
      "outputs": [
        {
          "output_type": "stream",
          "name": "stdout",
          "text": [
            "Número de outliers em Amount: 31904\n"
          ]
        }
      ]
    },
    {
      "cell_type": "markdown",
      "source": [
        "Por que não remover os outliers?\n",
        "\n",
        "- Fraudes geralmente se destacam como \"outliers\" no dataset.\n",
        "\n",
        "  - Transações fraudulentas podem ter valores atípicos, como valores altos ou padrões incomuns.\n",
        "\n",
        "- Remover esses dados pode fazer com que o modelo não consiga aprender a identificar fraudes."
      ],
      "metadata": {
        "id": "B-MAZYnV2HZx"
      }
    },
    {
      "cell_type": "markdown",
      "source": [
        "A melhor abordagem é transformar as variáveis para reduzir a influência dos outliers enquanto mantém as informações úteis.\n",
        "\n",
        "- a) Aplicar Transformação Logarítmica\n",
        "\n",
        "Reduzimos a escala dos valores e tornamos os dados mais uniformes para os modelos:"
      ],
      "metadata": {
        "id": "L8SAukDr2oyr"
      }
    },
    {
      "cell_type": "code",
      "source": [
        "import numpy as np\n",
        "\n",
        "df['log_amount'] = np.log1p(df['Amount'])  # log1p(x) = log(1 + x), evita problemas com valores 0"
      ],
      "metadata": {
        "id": "IVXaacdU2sXi"
      },
      "execution_count": null,
      "outputs": []
    },
    {
      "cell_type": "markdown",
      "source": [
        "Padronizar os Valores\n",
        "\n",
        "- Além da transformação logarítmica, podemos escalar os dados para que todas as variáveis estejam na mesma magnitude:"
      ],
      "metadata": {
        "id": "K2tu2egb2wbF"
      }
    },
    {
      "cell_type": "code",
      "source": [
        "from sklearn.preprocessing import StandardScaler\n",
        "\n",
        "# Inicializando o escalonador\n",
        "scaler = StandardScaler()\n",
        "\n",
        "# Escalonando 'log_amount' e 'Time'\n",
        "df['scaled_log_amount'] = scaler.fit_transform(df['log_amount'].values.reshape(-1, 1))\n",
        "df['scaled_time'] = scaler.fit_transform(df['Time'].values.reshape(-1, 1))\n"
      ],
      "metadata": {
        "id": "oBWn0KuS2y5C"
      },
      "execution_count": null,
      "outputs": []
    },
    {
      "cell_type": "markdown",
      "source": [
        "Após as transformações, podemos remover as versões originais de Amount e Time:"
      ],
      "metadata": {
        "id": "rfAdAmC-3Lpz"
      }
    },
    {
      "cell_type": "code",
      "source": [
        "# Remover as colunas originais 'Amount' e 'Time'\n",
        "df = df.drop(['Amount', 'Time'], axis=1)"
      ],
      "metadata": {
        "id": "JFljzIcg3MVZ"
      },
      "execution_count": null,
      "outputs": []
    },
    {
      "cell_type": "markdown",
      "source": [
        "# Vizualização dos Dados Pós Limpeza"
      ],
      "metadata": {
        "id": "kO_RnnSIBjE8"
      }
    },
    {
      "cell_type": "markdown",
      "source": [
        "Vamos verificar se a transformação logarítmica ajudou a reduzir a variação."
      ],
      "metadata": {
        "id": "Qnc6IaGrBsy8"
      }
    },
    {
      "cell_type": "code",
      "source": [
        "import seaborn as sns\n",
        "import matplotlib.pyplot as plt\n",
        "\n",
        "# Visualizando a distribuição de 'scaled_log_amount'\n",
        "plt.figure(figsize=(10, 6))\n",
        "sns.histplot(df['scaled_log_amount'], kde=True, color='blue')\n",
        "plt.title('Distribuição de scaled_log_amount')\n",
        "plt.xlabel('Scaled Log Amount')\n",
        "plt.ylabel('Frequência')\n",
        "plt.show()"
      ],
      "metadata": {
        "colab": {
          "base_uri": "https://localhost:8080/",
          "height": 533
        },
        "id": "KRtF4mnHBvHA",
        "outputId": "2a84eea5-8c5f-4d3c-fe8c-7f9a5e80f47c"
      },
      "execution_count": null,
      "outputs": [
        {
          "output_type": "display_data",
          "data": {
            "text/plain": [
              "<Figure size 1000x600 with 1 Axes>"
            ],
            "image/png": "[encoded data removed]"
          },
          "metadata": {}
        }
      ]
    },
    {
      "cell_type": "markdown",
      "source": [
        "O escalonamento do Time foi eficaz ?"
      ],
      "metadata": {
        "id": "3cZ1OSlEB01_"
      }
    },
    {
      "cell_type": "code",
      "source": [
        "# Visualizando a distribuição de 'scaled_time'\n",
        "plt.figure(figsize=(10, 6))\n",
        "sns.histplot(df['scaled_time'], kde=True, color='green')\n",
        "plt.title('Distribuição de scaled_time')\n",
        "plt.xlabel('Scaled Time')\n",
        "plt.ylabel('Frequência')\n",
        "plt.show()\n"
      ],
      "metadata": {
        "colab": {
          "base_uri": "https://localhost:8080/",
          "height": 539
        },
        "id": "jDrRTk0FB4Ce",
        "outputId": "d9502ad4-016f-4b07-c85c-ef0d1ac40593"
      },
      "execution_count": null,
      "outputs": [
        {
          "output_type": "display_data",
          "data": {
            "text/plain": [
              "<Figure size 1000x600 with 1 Axes>"
            ],
            "image/png": "[encoded data removed]"
          },
          "metadata": {}
        }
      ]
    },
    {
      "cell_type": "markdown",
      "source": [
        "**Relação entre scaled_log_amount e Class (fraude vs não fraude):**\n",
        "\n",
        "- Aqui, queremos visualizar como as transações fraudulentas se comportam em relação ao valor da transação."
      ],
      "metadata": {
        "id": "oOjNpgP3B80P"
      }
    },
    {
      "cell_type": "code",
      "source": [
        "# Relação entre 'scaled_log_amount' e 'Class' (fraude vs não fraude)\n",
        "plt.figure(figsize=(10, 6))\n",
        "sns.boxplot(x='Class', y='scaled_log_amount', data=df, palette='Set2')\n",
        "plt.title('Distribuição de Transações (Fraude vs Não Fraude)')\n",
        "plt.xlabel('Class (0: Não Fraude, 1: Fraude)')\n",
        "plt.ylabel('Scaled Log Amount')\n",
        "plt.show()"
      ],
      "metadata": {
        "colab": {
          "base_uri": "https://localhost:8080/",
          "height": 655
        },
        "id": "foNQzPvAB_Il",
        "outputId": "327f4806-1879-4387-d065-81bae29dda1b"
      },
      "execution_count": null,
      "outputs": [
        {
          "output_type": "stream",
          "name": "stderr",
          "text": [
            "<ipython-input-24-91d722501fcb>:3: FutureWarning: \n",
            "\n",
            "Passing `palette` without assigning `hue` is deprecated and will be removed in v0.14.0. Assign the `x` variable to `hue` and set `legend=False` for the same effect.\n",
            "\n",
            "  sns.boxplot(x='Class', y='scaled_log_amount', data=df, palette='Set2')\n"
          ]
        },
        {
          "output_type": "display_data",
          "data": {
            "text/plain": [
              "<Figure size 1000x600 with 1 Axes>"
            ],
            "image/png": "[encoded data removed]"
          },
          "metadata": {}
        }
      ]
    },
    {
      "cell_type": "markdown",
      "source": [
        "### Considerações"
      ],
      "metadata": {
        "id": "BiDkrFZnO6Tk"
      }
    },
    {
      "cell_type": "markdown",
      "source": [
        "A distribuição de scaled_log_amount nos diz como as transações foram transformadas após a aplicação do logaritmo e escalonamento. Com isso, podemos observar:\n",
        "\n",
        "**Se a distribuição ficou mais equilibrada:**\n",
        "\n",
        "- Antes da transformação, Amount provavelmente tinha uma grande dispersão, com alguns valores extremamente grandes (outliers). O logaritmo tende a reduzir essa dispersão.\n",
        "- Após a transformação, o gráfico deve mostrar uma distribuição mais concentrada, o que facilita o treinamento do modelo.\n",
        "\n",
        "**Se há assimetria ou picos:**\n",
        "\n",
        "- Se o gráfico mostrar uma assimetria acentuada ou se ainda houver um pico (por exemplo, um grande número de transações de valor muito pequeno), isso pode indicar que as transações de valor baixo são predominantes."
      ],
      "metadata": {
        "id": "9vcO9i8JPBtf"
      }
    },
    {
      "cell_type": "markdown",
      "source": [
        "A distribuição de scaled_time mostrará como o tempo foi transformado. O que procuramos aqui é:\n",
        "\n",
        "**Se o tempo está bem escalonado:**\n",
        "\n",
        "- A escala padrão deve fazer com que os valores de tempo se ajustem para uma distribuição mais uniforme, facilitando a comparação com outras variáveis.\n",
        "- Se houver algum comportamento de \"clustering\" (valores agrupados em intervalos específicos de tempo), isso pode indicar padrões interessantes (por exemplo, fraudes ocorrendo mais frequentemente em determinados horários).\n",
        "\n",
        "**Se há assimetria ou picos:**\n",
        "\n",
        "- Se houver muitos valores de tempo próximos ao início do dataset (valores baixos de scaled_time), pode ser uma indicação de que as transações estão mais concentradas em determinados períodos do dia ou da semana."
      ],
      "metadata": {
        "id": "lk3i5jSnPkm2"
      }
    },
    {
      "cell_type": "markdown",
      "source": [
        "**Relação entre scaled_log_amount e Class (fraude vs não fraude)**\n",
        "\n",
        "Esse gráfico é essencial para entender como as transações fraudulentas se comportam em comparação com as transações legítimas:\n",
        "\n",
        "**Se há diferença clara entre as classes:**\n",
        "\n",
        "- Se os boxplots de scaled_log_amount para transações legítimas (Class = 0) e fraudulentas (Class = 1) forem muito diferentes, isso pode indicar que as **transações fraudulentas tendem a ter valores significativamente mais altos ou mais baixos.** Por exemplo, fraudes podem estar associadas a valores extremos (muito altos ou muito baixos).\n",
        "\n",
        "**Se as transações fraudulentas têm uma maior variação:**\n",
        "\n",
        "- Se as transações fraudulentas (valor Class = 1) apresentarem uma maior dispersão ou outliers, isso pode indicar que as fraudes não seguem um padrão simples de valor — podem ter valores que se distendem mais do que as transações legítimas.\n",
        "Se há sobreposição entre as classes:\n",
        "\n",
        "- Se as distribuições de scaled_log_amount entre as transações fraudulentas e não fraudulentas se sobrepuserem muito, isso pode sugerir que a variável Amount não é suficientemente boa para distinguir fraudes apenas com base em seu valor. Isso é comum, pois fraudes podem ocorrer em valores de transações muito variados."
      ],
      "metadata": {
        "id": "iDs5sBLr2dQl"
      }
    },
    {
      "cell_type": "markdown",
      "source": [
        "### Resumo dos Insigths"
      ],
      "metadata": {
        "id": "Y2cRPPec2zpi"
      }
    },
    {
      "cell_type": "markdown",
      "source": [
        "\n",
        "- Transformações bem-sucedidas: Se os gráficos de distribuição de scaled_log_amount e scaled_time mostrarem distribuições mais simétricas e equilibradas, as transformações foram eficazes.\n",
        "\n",
        "- Padrões de fraudes: Se a visualização de scaled_log_amount versus Class mostrar que fraudes tendem a ter valores mais extremos ou variabilidade maior, isso é uma boa indicação de que o valor da transação pode ser um bom indicador para a detecção de fraudes."
      ],
      "metadata": {
        "id": "d9skDVkF22jg"
      }
    },
    {
      "cell_type": "markdown",
      "source": [
        "# Preparação do Modelo"
      ],
      "metadata": {
        "id": "nfEh8PsI3tgB"
      }
    },
    {
      "cell_type": "markdown",
      "source": [
        "**Passos da Preparação para Modelagem**\n",
        "\n",
        "- Definir o alvo (target) e as variáveis preditoras (features):\n",
        "\n",
        "  - Nosso alvo é a coluna Class (0 = não fraude, 1 = fraude).\n",
        "  - As variáveis preditoras são todas as outras colunas restantes no dataset.\n",
        "\n",
        "- Dividir os dados em treino e teste:\n",
        "\n",
        "  - Dividimos o dataset em duas partes:\n",
        "    - **Treino:** Usado para treinar o modelo.\n",
        "    - **Teste:** Usado para avaliar o desempenho do modelo em dados não vistos.\n",
        "  - Normalmente, usamos **80% para treino e 20% para teste.**\n",
        "\n",
        "- Lidar com desbalanceamento de classes (opcional, mas importante):\n",
        "\n",
        "  - Em muitos datasets de fraudes, há muito mais transações legítimas (Class = 0) do que fraudulentas (Class = 1).\n",
        "  - Técnicas comuns para lidar com isso incluem:\n",
        "    - Oversampling da classe minoritária (SMOTE): Aumentar os exemplos de fraudes.\n",
        "    - Class Weight: Configurar pesos para o modelo dar mais importância à classe minoritária.\n",
        "\n",
        "- Escalonar os dados (se necessário):\n",
        "\n",
        "  - Já escalonamos as colunas log_amount e time, mas garantimos que todas as features estejam na mesma escala."
      ],
      "metadata": {
        "id": "JlBheUWm4PJx"
      }
    },
    {
      "cell_type": "code",
      "source": [
        "from sklearn.model_selection import train_test_split\n",
        "from sklearn.preprocessing import StandardScaler\n",
        "from imblearn.over_sampling import SMOTE\n",
        "\n",
        "# 1. Separar o alvo e as variáveis preditoras\n",
        "X = df.drop('Class', axis=1)  # Todas as variáveis menos 'Class'\n",
        "y = df['Class']  # Alvo\n",
        "\n",
        "# 2. Dividir o dataset em treino e teste (80% treino, 20% teste)\n",
        "X_train, X_test, y_train, y_test = train_test_split(X, y, test_size=0.2, random_state=42, stratify=y)\n",
        "\n",
        "# 3. Aplicar o oversampling (SMOTE) para balancear as classes\n",
        "smote = SMOTE(random_state=42)\n",
        "X_train_resampled, y_train_resampled = smote.fit_resample(X_train, y_train)\n",
        "\n",
        "# 4. Confirmar a proporção das classes após o oversampling\n",
        "from collections import Counter\n",
        "print(\"Distribuição de Classes no Conjunto de Treino Antes:\", Counter(y_train))\n",
        "print(\"Distribuição de Classes no Conjunto de Treino Depois:\", Counter(y_train_resampled))\n"
      ],
      "metadata": {
        "colab": {
          "base_uri": "https://localhost:8080/"
        },
        "id": "Q2gkk8Uc446v",
        "outputId": "c4171f17-9828-4c05-8624-7cfaf567d80b"
      },
      "execution_count": null,
      "outputs": [
        {
          "output_type": "stream",
          "name": "stdout",
          "text": [
            "Distribuição de Classes no Conjunto de Treino Antes: Counter({0: 227451, 1: 394})\n",
            "Distribuição de Classes no Conjunto de Treino Depois: Counter({0: 227451, 1: 227451})\n"
          ]
        }
      ]
    },
    {
      "cell_type": "markdown",
      "source": [
        "# Treinamento do Modelo"
      ],
      "metadata": {
        "id": "4o6E26qN5vEm"
      }
    },
    {
      "cell_type": "markdown",
      "source": [
        "O modelo que eu escolhi para esse dataset é o **Random Forest**, que é robusta pra classificação e lida bem com datasets desbalanceados"
      ],
      "metadata": {
        "id": "MqXJUfBx6ebu"
      }
    },
    {
      "cell_type": "markdown",
      "source": [
        "Por que esse modelo é bom para detecção de fraudes ?\n",
        "\n",
        "Capacidade de lidar com dados desbalanceados:\n",
        "\n",
        "- Fraudes são raras (classe minoritária).\n",
        "- Random Forest é menos sensível ao desbalanceamento porque divide os dados em várias amostras e permite o uso de técnicas como SMOTE para balancear.\n",
        "\n",
        "Lida bem com grandes datasets e muitas variáveis:\n",
        "\n",
        "- Nosso dataset tem muitas features (30). O Random Forest pode usar subconjuntos aleatórios delas para evitar overfitting e melhorar a eficiência.\n",
        "\n",
        "Resistente a outliers:\n",
        "\n",
        "- Outliers em alguns dados não têm muito impacto porque são diluídos no conjunto de árvores.\n",
        "\n",
        "Detecção de padrões complexos:\n",
        "\n",
        "- Fraudes envolvem relações não-lineares e padrões sutis. O Random Forest captura bem essas interações.\n",
        "\n",
        "Interpretação e explicabilidade:\n",
        "\n",
        "- Podemos analisar importância de features (ex.: quais variáveis mais impactam na detecção de fraude), o que é útil para entender o comportamento do modelo."
      ],
      "metadata": {
        "id": "D6X02_EY9AZL"
      }
    },
    {
      "cell_type": "code",
      "source": [
        "from sklearn.ensemble import RandomForestClassifier\n",
        "from sklearn.metrics import classification_report, confusion_matrix, accuracy_score\n",
        "\n",
        "# 1. Inicializar o modelo Random Forest\n",
        "rf_model = RandomForestClassifier(n_estimators=50, max_depth=10, random_state=42)\n",
        "\n",
        "# 2. Treinar o modelo nos dados balanceados\n",
        "rf_model.fit(X_train_resampled, y_train_resampled)\n",
        "\n",
        "# 3. Fazer previsões no conjunto de teste\n",
        "y_pred = rf_model.predict(X_test)\n",
        "\n",
        "# 4. Avaliar o modelo\n",
        "print(\"Acurácia:\", accuracy_score(y_test, y_pred))\n",
        "print(\"\\nRelatório de Classificação:\\n\", classification_report(y_test, y_pred))\n",
        "print(\"\\nMatriz de Confusão:\\n\", confusion_matrix(y_test, y_pred))"
      ],
      "metadata": {
        "colab": {
          "base_uri": "https://localhost:8080/"
        },
        "id": "GK_5GkPy7kmr",
        "outputId": "468d9bbc-6d54-4a02-f878-3440c7638e50"
      },
      "execution_count": null,
      "outputs": [
        {
          "output_type": "stream",
          "name": "stdout",
          "text": [
            "Acurácia: 0.9976299989466662\n",
            "\n",
            "Relatório de Classificação:\n",
            "               precision    recall  f1-score   support\n",
            "\n",
            "           0       1.00      1.00      1.00     56864\n",
            "           1       0.41      0.86      0.55        98\n",
            "\n",
            "    accuracy                           1.00     56962\n",
            "   macro avg       0.70      0.93      0.78     56962\n",
            "weighted avg       1.00      1.00      1.00     56962\n",
            "\n",
            "\n",
            "Matriz de Confusão:\n",
            " [[56743   121]\n",
            " [   14    84]]\n"
          ]
        }
      ]
    },
    {
      "cell_type": "markdown",
      "source": [
        "# Interpretação dos Resultados"
      ],
      "metadata": {
        "id": "NiJZMr2G-ZtS"
      }
    },
    {
      "cell_type": "markdown",
      "source": [
        "**Acurácia: 0.9976 (~99,76%)**\n",
        "\n",
        "- Isso significa que 99,76% das previsões do modelo estão corretas."
      ],
      "metadata": {
        "id": "jqh0KvxM-dtB"
      }
    },
    {
      "cell_type": "markdown",
      "source": [
        "**Relatório de Classificação**\n",
        "\n",
        "- O relatório nos dá três métricas principais por classe:\n",
        "  - Classe 0 (Transações legítimas):\n",
        "    - Precision (1.00): O modelo classificou todas as instâncias previstas como \"legítimas\" corretamente.\n",
        "    - Recall (1.00): O modelo identificou quase todas as transações legítimas no dataset.\n",
        "    - F1-score (1.00): Combinação ideal de precisão e recall para a classe 0.\n",
        "  - Classe 1 (Fraudes):\n",
        "\n",
        "    - Precision (0.41): Apenas 41% das transações previstas como fraudes eram realmente fraudes.\n",
        "    - Recall (0.86): O modelo detectou 86% das fraudes reais.\n",
        "    - F1-score (0.55): Considerando precisão e recall, o desempenho geral na classe de fraudes é mediano.\n",
        "\n",
        "  - Macro Average:\n",
        "\n",
        "    - Média simples entre as classes.\n",
        "    - Precision (0.70), Recall (0.93) e F1-score (0.78) mostram que a classe minoritária impacta negativamente no desempenho geral.\n",
        "  - Weighted Average:\n",
        "\n",
        "    - Média ponderada pelas proporções das classes.\n",
        "    - Aqui, a classe majoritária domina, resultando em métricas próximas de 1."
      ],
      "metadata": {
        "id": "aFR-RyD4-p_u"
      }
    },
    {
      "cell_type": "markdown",
      "source": [
        "**Matriz de Confusão**\n",
        "\n",
        "- Estrutura\n",
        "  - [[TN, FP],\n",
        "\n",
        "    [FN, TP]]\n",
        "\n",
        "- TN (56743): Transações legítimas corretamente classificadas.\n",
        "- FP (121): Transações legítimas classificadas incorretamente como fraudes.\n",
        "- FN (14): Fraudes reais que o modelo não conseguiu identificar.\n",
        "- TP (84): Fraudes corretamente identificadas.\n",
        "\n",
        "- O modelo identificou 84 das 98 fraudes corretamente, mas errou em 14 casos.\n",
        "- Gerou 121 falsos positivos, o que significa que 121 transações legítimas foram tratadas como fraudes, possivelmente gerando custos operacionais."
      ],
      "metadata": {
        "id": "lC0ol4iv_i_U"
      }
    },
    {
      "cell_type": "markdown",
      "source": [
        "**Insights**\n",
        "\n",
        "Pontos fortes:\n",
        "\n",
        "- O modelo é muito eficiente para detectar transações legítimas (Recall de 1.00 para a classe 0).\n",
        "- Detectou uma boa proporção de fraudes (Recall de 0.86 para a classe 1).\n",
        "\n",
        "Pontos fracos:\n",
        "\n",
        "- Baixa precisão para fraudes (0.41): Mais de 50% das previsões de fraude estavam incorretas.\n",
        "- Falsos positivos (121) podem causar transtornos para clientes legítimos.\n",
        "\n",
        "Conclusão inicial:\n",
        "\n",
        "O modelo é útil para identificar fraudes, mas ainda precisa de ajustes para melhorar a precisão e reduzir falsos positivos."
      ],
      "metadata": {
        "id": "gJduL6BP_7Np"
      }
    },
    {
      "cell_type": "markdown",
      "source": [
        "# Próximos Passos\n",
        "\n",
        "Em breve vou fazer uma comparação entre esse modelo ajustado (explorando hiperparâmetros para melhorar a precisão) com outros tipos de modelos e documentar o processo aqui !\n",
        "\n",
        "Mas por enquanto o meu muito obrigado, espero que tenhamos a"
      ],
      "metadata": {
        "id": "rdyPxcAMAeMB"
      }
    }
  ]
}